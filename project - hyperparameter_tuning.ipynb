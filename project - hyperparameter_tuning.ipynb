{
 "cells": [
  {
   "cell_type": "code",
   "execution_count": 1,
   "id": "17b3c268",
   "metadata": {},
   "outputs": [],
   "source": [
    "import pandas as pd\n",
    "import numpy as np\n",
    "%matplotlib inline\n",
    "\n",
    "import warnings\n",
    "warnings.filterwarnings(\"ignore\")\n",
    "\n",
    "from sklearn.feature_extraction.text import CountVectorizer\n",
    "from sklearn.feature_extraction.text import TfidfVectorizer\n",
    "from sklearn.metrics import classification_report, confusion_matrix\n",
    "\n",
    "import matplotlib.pyplot as plt\n",
    "import seaborn as sns"
   ]
  },
  {
   "cell_type": "code",
   "execution_count": 2,
   "id": "9c8788b9",
   "metadata": {},
   "outputs": [],
   "source": [
    "df=pd.read_pickle(r'preprocessed_df.pkl')"
   ]
  },
  {
   "cell_type": "code",
   "execution_count": 4,
   "id": "054c93c0",
   "metadata": {},
   "outputs": [],
   "source": [
    "'''We now no more require the actual Headlines'''\n",
    "df=df.drop(['Headlines','word2vec','headlines_words'],axis=1)"
   ]
  },
  {
   "cell_type": "code",
   "execution_count": 5,
   "id": "96ca5e1c",
   "metadata": {},
   "outputs": [
    {
     "data": {
      "text/html": [
       "<div>\n",
       "<style scoped>\n",
       "    .dataframe tbody tr th:only-of-type {\n",
       "        vertical-align: middle;\n",
       "    }\n",
       "\n",
       "    .dataframe tbody tr th {\n",
       "        vertical-align: top;\n",
       "    }\n",
       "\n",
       "    .dataframe thead th {\n",
       "        text-align: right;\n",
       "    }\n",
       "</style>\n",
       "<table border=\"1\" class=\"dataframe\">\n",
       "  <thead>\n",
       "    <tr style=\"text-align: right;\">\n",
       "      <th></th>\n",
       "      <th>Date</th>\n",
       "      <th>Label</th>\n",
       "      <th>headlines_str</th>\n",
       "    </tr>\n",
       "  </thead>\n",
       "  <tbody>\n",
       "    <tr>\n",
       "      <th>0</th>\n",
       "      <td>2000-01-03</td>\n",
       "      <td>0</td>\n",
       "      <td>hindrance operation extract leaked report scor...</td>\n",
       "    </tr>\n",
       "    <tr>\n",
       "      <th>1</th>\n",
       "      <td>2000-01-04</td>\n",
       "      <td>0</td>\n",
       "      <td>scorecard best lake scene leader german sleaze...</td>\n",
       "    </tr>\n",
       "  </tbody>\n",
       "</table>\n",
       "</div>"
      ],
      "text/plain": [
       "          Date  Label                                      headlines_str\n",
       "0  2000-01-03       0  hindrance operation extract leaked report scor...\n",
       "1  2000-01-04       0  scorecard best lake scene leader german sleaze..."
      ]
     },
     "execution_count": 5,
     "metadata": {},
     "output_type": "execute_result"
    }
   ],
   "source": [
    "df.head()[:2]"
   ]
  },
  {
   "cell_type": "code",
   "execution_count": 6,
   "id": "cde04a49",
   "metadata": {},
   "outputs": [],
   "source": [
    "from sklearn.naive_bayes import MultinomialNB\n",
    "from sklearn.neighbors import KNeighborsClassifier\n",
    "from sklearn.ensemble import RandomForestClassifier"
   ]
  },
  {
   "cell_type": "code",
   "execution_count": 7,
   "id": "8f3554e1",
   "metadata": {},
   "outputs": [],
   "source": [
    "train = df[df['Date'] < '20150101'].drop('Date',axis=1)\n",
    "test = df[df['Date'] > '20141231'].drop('Date',axis=1)"
   ]
  },
  {
   "cell_type": "markdown",
   "id": "a3298c3f",
   "metadata": {},
   "source": [
    "# Model hyper-parameter tuning"
   ]
  },
  {
   "cell_type": "code",
   "execution_count": 8,
   "id": "f0672d00",
   "metadata": {},
   "outputs": [],
   "source": [
    "count_vect = CountVectorizer(analyzer='word')\n",
    "tfidf_vect = TfidfVectorizer(analyzer='word')"
   ]
  },
  {
   "cell_type": "markdown",
   "id": "d2bc9fd4",
   "metadata": {},
   "source": [
    "## `Naive Baye's Model with Count Vectorizer`"
   ]
  },
  {
   "cell_type": "code",
   "execution_count": 9,
   "id": "d2c6b8fd",
   "metadata": {},
   "outputs": [],
   "source": [
    "model=MultinomialNB()\n",
    "param={'alpha':[0.0001,0.001,0.01,0.1,1,10,100,1000]}"
   ]
  },
  {
   "cell_type": "code",
   "execution_count": 10,
   "id": "ae940ec1",
   "metadata": {},
   "outputs": [],
   "source": [
    "from sklearn.model_selection import GridSearchCV"
   ]
  },
  {
   "cell_type": "code",
   "execution_count": 11,
   "id": "94ce48c3",
   "metadata": {},
   "outputs": [
    {
     "data": {
      "text/plain": [
       "GridSearchCV(estimator=MultinomialNB(), n_jobs=-1,\n",
       "             param_grid={'alpha': [0.0001, 0.001, 0.01, 0.1, 1, 10, 100, 1000]},\n",
       "             scoring='accuracy')"
      ]
     },
     "execution_count": 11,
     "metadata": {},
     "output_type": "execute_result"
    }
   ],
   "source": [
    "gcv=GridSearchCV(model,param_grid=param,n_jobs=-1,scoring='accuracy')\n",
    "gcv.fit(count_vect.fit_transform(train.headlines_str),train.Label)"
   ]
  },
  {
   "cell_type": "code",
   "execution_count": 12,
   "id": "fa4eaaf0",
   "metadata": {},
   "outputs": [
    {
     "data": {
      "text/plain": [
       "(0.7275471698113208, MultinomialNB(alpha=0.1))"
      ]
     },
     "execution_count": 12,
     "metadata": {},
     "output_type": "execute_result"
    }
   ],
   "source": [
    "gcv.best_score_,gcv.best_estimator_"
   ]
  },
  {
   "cell_type": "markdown",
   "id": "74e6afa4",
   "metadata": {},
   "source": [
    "Model Fitting"
   ]
  },
  {
   "cell_type": "code",
   "execution_count": 13,
   "id": "e783cd8d",
   "metadata": {},
   "outputs": [
    {
     "data": {
      "text/plain": [
       "MultinomialNB(alpha=0.1)"
      ]
     },
     "execution_count": 13,
     "metadata": {},
     "output_type": "execute_result"
    }
   ],
   "source": [
    "model=MultinomialNB(alpha=0.1)\n",
    "model.fit(count_vect.fit_transform(train.headlines_str),train.Label)"
   ]
  },
  {
   "cell_type": "code",
   "execution_count": 14,
   "id": "42240e53",
   "metadata": {},
   "outputs": [],
   "source": [
    "y_pred=model.predict(count_vect.transform(test.headlines_str))"
   ]
  },
  {
   "cell_type": "code",
   "execution_count": 15,
   "id": "41a63d0e",
   "metadata": {},
   "outputs": [
    {
     "data": {
      "text/plain": [
       "array([[158,  28],\n",
       "       [ 25, 167]], dtype=int64)"
      ]
     },
     "metadata": {},
     "output_type": "display_data"
    },
    {
     "name": "stdout",
     "output_type": "stream",
     "text": [
      "\n",
      "               precision    recall  f1-score   support\n",
      "\n",
      "           0       0.86      0.85      0.86       186\n",
      "           1       0.86      0.87      0.86       192\n",
      "\n",
      "    accuracy                           0.86       378\n",
      "   macro avg       0.86      0.86      0.86       378\n",
      "weighted avg       0.86      0.86      0.86       378\n",
      "\n"
     ]
    }
   ],
   "source": [
    "display(confusion_matrix(test.Label,y_pred))\n",
    "print('\\n',classification_report(test.Label,y_pred))"
   ]
  },
  {
   "cell_type": "markdown",
   "id": "192be051",
   "metadata": {},
   "source": [
    "## `Random Forest with Count Vectorizer`"
   ]
  },
  {
   "cell_type": "code",
   "execution_count": 17,
   "id": "b920bd44",
   "metadata": {},
   "outputs": [],
   "source": [
    "model=RandomForestClassifier(n_jobs=-1,warm_start=True)\n",
    "param={'n_estimators':[50,100,250,300,200],\n",
    "    'criterion':['gini','entropy'],\n",
    "    'max_depth':[10,25,50,75],\n",
    "    'min_samples_split':[1,2,3,4,6,8]}"
   ]
  },
  {
   "cell_type": "code",
   "execution_count": 18,
   "id": "cd8f27ef",
   "metadata": {},
   "outputs": [
    {
     "data": {
      "text/plain": [
       "GridSearchCV(estimator=RandomForestClassifier(n_jobs=-1, warm_start=True),\n",
       "             n_jobs=-1,\n",
       "             param_grid={'criterion': ['gini', 'entropy'],\n",
       "                         'max_depth': [10, 25, 50, 75],\n",
       "                         'min_samples_split': [1,2,3,4,6,8],\n",
       "                         'n_estimators': [50, 100, 250, 300, 200]},\n",
       "             scoring='accuracy')"
      ]
     },
     "execution_count": 18,
     "metadata": {},
     "output_type": "execute_result"
    }
   ],
   "source": [
    "gcv=GridSearchCV(model,param_grid=param,n_jobs=-1,scoring='accuracy')\n",
    "gcv.fit(count_vect.fit_transform(train.headlines_str),train.Label)"
   ]
  },
  {
   "cell_type": "code",
   "execution_count": 19,
   "id": "b4f10e56",
   "metadata": {},
   "outputs": [
    {
     "data": {
      "text/plain": [
       "(0.5267924528301886,\n",
       " RandomForestClassifier(criterion='entropy', max_depth=50, n_estimators=250, n_jobs=-1,\n",
       "                        warm_start=True))"
      ]
     },
     "execution_count": 19,
     "metadata": {},
     "output_type": "execute_result"
    }
   ],
   "source": [
    "gcv.best_score_,gcv.best_estimator_"
   ]
  },
  {
   "cell_type": "markdown",
   "id": "398c337e",
   "metadata": {},
   "source": [
    "Model Fitting"
   ]
  },
  {
   "cell_type": "code",
   "execution_count": 20,
   "id": "3b33aad2",
   "metadata": {},
   "outputs": [
    {
     "data": {
      "text/plain": [
       "RandomForestClassifier(criterion='entropy', max_depth=50, n_estimators=250,\n",
       "                       n_jobs=-1, warm_start=True)"
      ]
     },
     "execution_count": 20,
     "metadata": {},
     "output_type": "execute_result"
    }
   ],
   "source": [
    "model=RandomForestClassifier(criterion='entropy', max_depth=50, n_estimators=250,\n",
    "                        n_jobs=-1, warm_start=True)\n",
    "model.fit(count_vect.fit_transform(train.headlines_str),train.Label)"
   ]
  },
  {
   "cell_type": "code",
   "execution_count": 21,
   "id": "6bd754b8",
   "metadata": {},
   "outputs": [],
   "source": [
    "y_pred=model.predict(count_vect.transform(test.headlines_str))"
   ]
  },
  {
   "cell_type": "code",
   "execution_count": 22,
   "id": "295f8d33",
   "metadata": {},
   "outputs": [
    {
     "data": {
      "text/plain": [
       "array([[135,  51],\n",
       "       [ 12, 180]], dtype=int64)"
      ]
     },
     "metadata": {},
     "output_type": "display_data"
    },
    {
     "name": "stdout",
     "output_type": "stream",
     "text": [
      "\n",
      "               precision    recall  f1-score   support\n",
      "\n",
      "           0       0.92      0.73      0.81       186\n",
      "           1       0.78      0.94      0.85       192\n",
      "\n",
      "    accuracy                           0.83       378\n",
      "   macro avg       0.85      0.83      0.83       378\n",
      "weighted avg       0.85      0.83      0.83       378\n",
      "\n"
     ]
    }
   ],
   "source": [
    "display(confusion_matrix(test.Label,y_pred))\n",
    "print('\\n',classification_report(test.Label,y_pred))"
   ]
  },
  {
   "cell_type": "markdown",
   "id": "bfa87a70",
   "metadata": {},
   "source": [
    "## `KNN Model with TFID Vectorizer `"
   ]
  },
  {
   "cell_type": "code",
   "execution_count": 23,
   "id": "f0bc6341",
   "metadata": {},
   "outputs": [],
   "source": [
    "model=KNeighborsClassifier()\n",
    "param={'n_neighbors':[3,5,7,9,11],\n",
    "    'weights':['uniform','distance'],\n",
    "    'algorithm':['auto', 'ball_tree', 'kd_tree', 'brute'],\n",
    "    'leaf_size':[20,30,40]}"
   ]
  },
  {
   "cell_type": "code",
   "execution_count": 24,
   "id": "8064d6f3",
   "metadata": {},
   "outputs": [
    {
     "data": {
      "text/plain": [
       "GridSearchCV(estimator=KNeighborsClassifier(),\n",
       "             param_grid={'algorithm': ['auto', 'ball_tree', 'kd_tree', 'brute'],\n",
       "                         'leaf_size': [20, 30, 40],\n",
       "                         'n_neighbors': [3, 5, 7, 9, 11],\n",
       "                         'weights': ['uniform', 'distance']},\n",
       "             scoring='accuracy')"
      ]
     },
     "execution_count": 24,
     "metadata": {},
     "output_type": "execute_result"
    }
   ],
   "source": [
    "gcv=GridSearchCV(model,param_grid=param,scoring='accuracy')\n",
    "gcv.fit(count_vect.fit_transform(train.headlines_str),train.Label)"
   ]
  },
  {
   "cell_type": "code",
   "execution_count": 25,
   "id": "91d9f3de",
   "metadata": {},
   "outputs": [
    {
     "data": {
      "text/plain": [
       "(0.5280503144654088, KNeighborsClassifier(leaf_size=20, n_neighbors=7))"
      ]
     },
     "execution_count": 25,
     "metadata": {},
     "output_type": "execute_result"
    }
   ],
   "source": [
    "gcv.best_score_,gcv.best_estimator_"
   ]
  },
  {
   "cell_type": "markdown",
   "id": "c1d3bc05",
   "metadata": {},
   "source": [
    "Model Fitting\n"
   ]
  },
  {
   "cell_type": "code",
   "execution_count": 26,
   "id": "be5fd14c",
   "metadata": {},
   "outputs": [
    {
     "data": {
      "text/plain": [
       "KNeighborsClassifier(leaf_size=20, n_jobs=-1, n_neighbors=7)"
      ]
     },
     "execution_count": 26,
     "metadata": {},
     "output_type": "execute_result"
    }
   ],
   "source": [
    "model=KNeighborsClassifier(leaf_size=20, n_neighbors=7,n_jobs=-1)\n",
    "model.fit(count_vect.fit_transform(train.headlines_str),train.Label)"
   ]
  },
  {
   "cell_type": "code",
   "execution_count": 27,
   "id": "f4485902",
   "metadata": {},
   "outputs": [],
   "source": [
    "y_pred=model.predict(count_vect.transform(test.headlines_str))"
   ]
  },
  {
   "cell_type": "code",
   "execution_count": 28,
   "id": "1eb665b5",
   "metadata": {},
   "outputs": [
    {
     "data": {
      "text/plain": [
       "array([[ 29, 157],\n",
       "       [ 10, 182]], dtype=int64)"
      ]
     },
     "metadata": {},
     "output_type": "display_data"
    },
    {
     "name": "stdout",
     "output_type": "stream",
     "text": [
      "\n",
      "               precision    recall  f1-score   support\n",
      "\n",
      "           0       0.74      0.16      0.26       186\n",
      "           1       0.54      0.95      0.69       192\n",
      "\n",
      "    accuracy                           0.56       378\n",
      "   macro avg       0.64      0.55      0.47       378\n",
      "weighted avg       0.64      0.56      0.48       378\n",
      "\n"
     ]
    }
   ],
   "source": [
    "display(confusion_matrix(test.Label,y_pred))\n",
    "print('\\n',classification_report(test.Label,y_pred))"
   ]
  },
  {
   "cell_type": "markdown",
   "id": "b4173d0d",
   "metadata": {},
   "source": [
    "#### The Best Model during the training process resulted the least perfromance"
   ]
  },
  {
   "cell_type": "markdown",
   "id": "b3a17d04",
   "metadata": {},
   "source": [
    "#### We'll be selecting `Naive Baye's Model` in comparision to 'Random Forest' as both the F1 Score for the classification are better"
   ]
  },
  {
   "cell_type": "markdown",
   "id": "53c9c5bf",
   "metadata": {},
   "source": [
    "## AOC_RUC Analysis"
   ]
  },
  {
   "cell_type": "markdown",
   "id": "fe7f3abc",
   "metadata": {},
   "source": [
    "#### The purpose of this Analysis was to reduce the `False Positive Rate`, so that the investor/trader can save money by pulling out in the model's false claims"
   ]
  },
  {
   "cell_type": "code",
   "execution_count": 29,
   "id": "65a2ee84",
   "metadata": {},
   "outputs": [
    {
     "data": {
      "text/plain": [
       "MultinomialNB(alpha=0.1)"
      ]
     },
     "execution_count": 29,
     "metadata": {},
     "output_type": "execute_result"
    }
   ],
   "source": [
    "model=MultinomialNB(alpha=0.1)\n",
    "model.fit(count_vect.fit_transform(train.headlines_str),train.Label)"
   ]
  },
  {
   "cell_type": "code",
   "execution_count": 30,
   "id": "966ee80e",
   "metadata": {
    "scrolled": true
   },
   "outputs": [
    {
     "data": {
      "text/plain": [
       "array([1.00000000e+00, 5.69340289e-16, 4.62861513e-21, 1.00000000e+00,\n",
       "       1.00000000e+00, 1.51899121e-16, 1.60877488e-08, 5.39984196e-07,\n",
       "       4.00466611e-16, 1.14456801e-17, 9.99999573e-01, 1.00000000e+00,\n",
       "       1.00000000e+00, 1.00000000e+00, 9.53298102e-14, 1.00000000e+00,\n",
       "       5.00305937e-12, 8.16951020e-10, 1.00000000e+00, 1.98079806e-11,\n",
       "       1.00000000e+00, 1.00000000e+00, 1.00000000e+00, 1.00000000e+00,\n",
       "       1.40773258e-15, 2.61412668e-13, 1.00000000e+00, 2.66568238e-12,\n",
       "       9.99999982e-01, 9.99999992e-01, 1.00000000e+00, 8.76073322e-19,\n",
       "       1.97819017e-17, 1.00000000e+00, 1.46530865e-11, 9.99999931e-01,\n",
       "       1.00000000e+00, 2.24279829e-12, 4.14863864e-28, 1.00000000e+00,\n",
       "       2.25212093e-13, 1.74003372e-16, 1.00000000e+00, 7.16340165e-27,\n",
       "       1.00000000e+00, 3.97329496e-22, 1.28994144e-12, 1.00000000e+00,\n",
       "       1.67312703e-13, 9.99999997e-01, 1.24833216e-13, 1.00000000e+00,\n",
       "       4.89811147e-16, 1.00000000e+00, 2.60276318e-13, 8.90398019e-16,\n",
       "       2.50891359e-18, 1.91671314e-11, 1.00000000e+00, 9.99993132e-01,\n",
       "       3.01280399e-19, 3.06076868e-10, 1.00000000e+00, 1.00000000e+00,\n",
       "       3.44044751e-17, 1.00000000e+00, 9.99998278e-01, 1.00000000e+00,\n",
       "       2.36774761e-16, 1.00000000e+00, 1.00000000e+00, 4.10367903e-15,\n",
       "       1.99271313e-22, 1.00000000e+00, 5.96216379e-14, 1.00000000e+00,\n",
       "       1.00000000e+00, 1.00000000e+00, 4.11451955e-12, 1.00000000e+00,\n",
       "       7.87969761e-19, 1.51586709e-07, 1.00000000e+00, 1.00000000e+00,\n",
       "       2.44053822e-13, 2.04360077e-13, 1.00000000e+00, 1.00000000e+00,\n",
       "       7.36631323e-24, 7.34980518e-14, 1.32972911e-20, 1.00000000e+00,\n",
       "       1.00000000e+00, 1.00000000e+00, 1.00000000e+00, 2.15079642e-20,\n",
       "       9.99999989e-01, 9.14652467e-14, 4.13865673e-19, 1.00000000e+00,\n",
       "       3.62426159e-11, 5.13370703e-18, 1.00000000e+00, 2.77595735e-12,\n",
       "       1.00000000e+00, 6.20530640e-11, 4.10678850e-17, 3.47106977e-13,\n",
       "       2.37883376e-20, 1.00000000e+00, 9.99999997e-01, 1.00983146e-18,\n",
       "       3.34006267e-11, 1.00000000e+00, 1.00000000e+00, 9.99999639e-01,\n",
       "       5.40071955e-16, 1.00000000e+00, 1.00000000e+00, 1.45775671e-13,\n",
       "       2.61846917e-20, 1.00000000e+00, 1.67223002e-20, 1.00000000e+00,\n",
       "       9.99999959e-01, 5.15778143e-14, 5.38178314e-20, 1.00000000e+00,\n",
       "       7.70296199e-23, 9.99999829e-01, 1.00000000e+00, 1.00000000e+00,\n",
       "       9.99999979e-01, 2.90459048e-10, 1.00000000e+00, 6.35130438e-15,\n",
       "       1.00000000e+00, 8.61257222e-25, 5.38408855e-24, 1.26053416e-17,\n",
       "       1.94076506e-06, 4.13333127e-12, 9.99999833e-01, 1.00000000e+00,\n",
       "       2.55598747e-08, 8.83287136e-07, 7.87606302e-18, 2.37899532e-19,\n",
       "       1.28301031e-24, 3.91860790e-17, 8.94043807e-27, 1.00000000e+00,\n",
       "       1.43342161e-12, 3.40003249e-14, 1.00000000e+00, 1.00000000e+00,\n",
       "       1.00000000e+00, 6.50297753e-26, 1.45118454e-22, 4.57993201e-11,\n",
       "       6.76415233e-21, 2.98324225e-10, 3.13272560e-09, 1.00000000e+00,\n",
       "       1.00000000e+00, 7.61520404e-29, 3.19369524e-18, 1.90503972e-20,\n",
       "       1.00000000e+00, 1.00000000e+00, 1.50245836e-08, 1.00000000e+00,\n",
       "       1.05911693e-20, 1.00000000e+00, 1.00000000e+00, 2.13606238e-26,\n",
       "       1.00000000e+00, 1.00000000e+00, 8.82956574e-18, 1.67369523e-10,\n",
       "       1.00000000e+00, 8.60372325e-16, 2.11915771e-10, 1.18310513e-13,\n",
       "       1.00000000e+00, 2.23473402e-14, 1.00000000e+00, 1.00000000e+00,\n",
       "       2.11845214e-04, 1.00000000e+00, 1.00000000e+00, 1.00000000e+00,\n",
       "       1.00000000e+00, 9.99999996e-01, 1.00000000e+00, 1.00000000e+00,\n",
       "       4.31154138e-06, 1.98714561e-13, 1.00000000e+00, 1.00000000e+00,\n",
       "       1.00000000e+00, 4.23420828e-16, 1.22895487e-08, 1.00000000e+00,\n",
       "       1.00000000e+00, 4.44833680e-11, 7.07757042e-13, 1.00000000e+00,\n",
       "       8.59039403e-21, 2.15928675e-08, 1.00000000e+00, 1.00000000e+00,\n",
       "       1.39781759e-19, 2.71621156e-07, 1.00000000e+00, 9.19437157e-18,\n",
       "       1.00000000e+00, 2.56832767e-23, 2.55060521e-22, 2.03298791e-12,\n",
       "       9.99999918e-01, 9.99998528e-01, 1.00000000e+00, 1.25274475e-08,\n",
       "       1.00000000e+00, 9.13108036e-16, 1.00000000e+00, 9.99999923e-01,\n",
       "       1.17660288e-11, 9.81526690e-04, 1.00000000e+00, 6.74713925e-14,\n",
       "       1.08552366e-24, 9.99999985e-01, 1.61715843e-09, 1.73604473e-21,\n",
       "       6.46708909e-16, 1.00000000e+00, 1.06563872e-21, 1.00000000e+00,\n",
       "       1.00000000e+00, 1.00000000e+00, 3.65992569e-10, 1.72468575e-13,\n",
       "       1.00000000e+00, 9.99999974e-01, 1.00000000e+00, 2.28282609e-16,\n",
       "       1.25720846e-16, 1.00000000e+00, 2.45808954e-07, 5.35918403e-21,\n",
       "       2.49968192e-01, 2.80486368e-03, 3.75984546e-02, 4.32397696e-03,\n",
       "       5.09540583e-01, 9.97901374e-01, 6.56451750e-01, 4.56807522e-01,\n",
       "       9.53561843e-01, 3.75663995e-06, 9.99938728e-01, 9.98048571e-01,\n",
       "       1.01601184e-05, 9.98739465e-01, 9.89340690e-01, 9.77418436e-01,\n",
       "       9.53391775e-01, 8.71639827e-01, 9.67064205e-01, 1.36003591e-06,\n",
       "       3.62016617e-04, 9.99999835e-01, 9.84328945e-01, 1.64864424e-06,\n",
       "       3.92719914e-01, 3.43100187e-03, 9.99983569e-01, 9.14960233e-01,\n",
       "       1.00000000e+00, 5.53866869e-01, 7.25630897e-01, 9.99936441e-01,\n",
       "       9.99378823e-01, 1.80636732e-03, 9.99984484e-01, 7.16056669e-04,\n",
       "       1.43669732e-02, 9.99949826e-01, 7.83414081e-02, 6.51562907e-03,\n",
       "       6.44556655e-01, 9.99372430e-01, 9.99998356e-01, 9.99999941e-01,\n",
       "       9.99999835e-01, 9.16791715e-01, 9.99999843e-01, 1.37401014e-04,\n",
       "       3.63116129e-05, 9.99401384e-01, 9.99953855e-01, 1.56076610e-05,\n",
       "       9.98454545e-01, 9.99999982e-01, 9.99987467e-01, 9.99089088e-01,\n",
       "       9.99994456e-01, 9.80566529e-01, 9.98473945e-01, 9.44715432e-01,\n",
       "       1.27937343e-01, 1.00000000e+00, 4.66819040e-02, 9.99884060e-01,\n",
       "       1.77447768e-02, 4.44939217e-01, 1.25248936e-01, 9.93749465e-01,\n",
       "       9.46565213e-01, 8.85038109e-06, 9.78547012e-01, 1.19785163e-03,\n",
       "       5.36043404e-01, 9.99999999e-01, 9.98792731e-01, 7.11823031e-01,\n",
       "       9.99981561e-01, 1.07148453e-01, 9.99999305e-01, 9.05301986e-02,\n",
       "       1.96328428e-02, 8.43677889e-04, 9.98829123e-01, 9.94954290e-01,\n",
       "       1.73286913e-01, 1.14913655e-04, 7.05299223e-05, 9.99899152e-01,\n",
       "       3.54140733e-01, 9.99999953e-01, 2.48442196e-01, 6.14617685e-02,\n",
       "       9.99783560e-01, 3.74797716e-02, 3.50141113e-03, 8.65180695e-03,\n",
       "       4.32865839e-02, 4.51419825e-01, 1.00000000e+00, 8.37809169e-01,\n",
       "       9.30428465e-01, 2.99665474e-04, 1.36858011e-01, 1.93099069e-01,\n",
       "       2.24505107e-09, 4.61588386e-02, 9.84227921e-01, 9.99384164e-01,\n",
       "       9.98549685e-01, 9.96198538e-01, 9.95168417e-01, 9.99999952e-01,\n",
       "       1.00000000e+00, 9.63803983e-01, 4.26395587e-07, 9.99984995e-01,\n",
       "       5.36352141e-01, 9.99999968e-01, 9.99736001e-01, 9.53542970e-03,\n",
       "       4.23254335e-09, 1.54327477e-05, 6.50477810e-04, 9.08158558e-04,\n",
       "       9.99998422e-01, 9.99395152e-01])"
      ]
     },
     "execution_count": 30,
     "metadata": {},
     "output_type": "execute_result"
    }
   ],
   "source": [
    "y_pred_prob=model.predict_proba(count_vect.transform(test.headlines_str))[:,1]\n",
    "y_pred_prob"
   ]
  },
  {
   "cell_type": "code",
   "execution_count": 31,
   "id": "150533de",
   "metadata": {},
   "outputs": [],
   "source": [
    "threshold=np.arange(0.00,1.0,0.01)"
   ]
  },
  {
   "cell_type": "code",
   "execution_count": 32,
   "id": "e7e15c47",
   "metadata": {},
   "outputs": [],
   "source": [
    "tpr,fpr,fnr=[],[],[]\n",
    "for k in threshold:\n",
    "    res=[np.where(r>k,1,0) for r in y_pred_prob]\n",
    "    c=confusion_matrix(test.Label,res)\n",
    "    tpr.append(c[1,1]/(c[1,1]+c[1,0]))\n",
    "    fpr.append(c[0,1]/(c[0,0]+c[0,1]))\n",
    "    fnr.append(c[1,0]/(c[1,0]+c[1,1]))"
   ]
  },
  {
   "cell_type": "code",
   "execution_count": 33,
   "id": "4b437ff3",
   "metadata": {},
   "outputs": [
    {
     "data": {
      "image/png": "[encoded data removed]",
      "text/plain": [
       "<Figure size 504x504 with 1 Axes>"
      ]
     },
     "metadata": {
      "needs_background": "light"
     },
     "output_type": "display_data"
    }
   ],
   "source": [
    "plt.figure(figsize=(7,7))\n",
    "plt.plot(fpr,tpr,marker='o',markerfacecolor='r',label='FPR Vs TPR')\n",
    "plt.plot(fpr,fnr,marker='+',markerfacecolor='black',label='FPR Vs FNR')\n",
    "sns.lineplot(x=threshold)\n",
    "plt.plot(fpr,fpr,linestyle=':',c='r')\n",
    "plt.legend()\n",
    "plt.xlabel('FPR')\n",
    "plt.grid()\n",
    "plt.ylabel('FNR/TPR')\n",
    "plt.title('AUC ROC Curve')\n",
    "plt.xticks(ticks=np.arange(0.05,1.1,0.05),rotation=45)\n",
    "plt.show()"
   ]
  },
  {
   "cell_type": "code",
   "execution_count": 34,
   "id": "c498d0ed",
   "metadata": {},
   "outputs": [],
   "source": [
    "roc_auc=pd.DataFrame({'TPR':tpr,'FPR':fpr,'Threshold':threshold})"
   ]
  },
  {
   "cell_type": "code",
   "execution_count": 36,
   "id": "796c6470",
   "metadata": {
    "scrolled": false
   },
   "outputs": [
    {
     "name": "stdout",
     "output_type": "stream",
     "text": [
      "         TPR       FPR  Threshold\n",
      "72  0.843750  0.139785       0.72\n",
      "73  0.838542  0.139785       0.73\n",
      "74  0.838542  0.139785       0.74\n",
      "75  0.838542  0.139785       0.75\n",
      "76  0.838542  0.139785       0.76\n",
      "77  0.838542  0.139785       0.77\n",
      "78  0.838542  0.139785       0.78\n",
      "79  0.838542  0.139785       0.79\n",
      "80  0.838542  0.139785       0.80\n",
      "81  0.838542  0.139785       0.81\n",
      "82  0.838542  0.139785       0.82\n",
      "83  0.838542  0.139785       0.83\n",
      "84  0.833333  0.139785       0.84\n",
      "85  0.833333  0.139785       0.85\n",
      "86  0.833333  0.139785       0.86\n",
      "87  0.833333  0.139785       0.87\n",
      "88  0.828125  0.139785       0.88\n",
      "89  0.828125  0.139785       0.89\n",
      "90  0.828125  0.139785       0.90\n",
      "91  0.828125  0.139785       0.91\n",
      "92  0.822917  0.134409       0.92\n",
      "93  0.822917  0.134409       0.93\n",
      "94  0.822917  0.129032       0.94\n",
      "95  0.812500  0.129032       0.95\n",
      "96  0.807292  0.123656       0.96\n",
      "97  0.802083  0.118280       0.97\n",
      "98  0.791667  0.118280       0.98\n",
      "99  0.776042  0.112903       0.99\n"
     ]
    }
   ],
   "source": [
    "print(roc_auc[roc_auc.FPR<=0.139785].sort_values(by='Threshold'))"
   ]
  },
  {
   "cell_type": "markdown",
   "id": "bc5f37bc",
   "metadata": {},
   "source": [
    "#### From the FPR vs Threhold values, I found that the FPR was nearly constant for a range of values. FPR=0.139 seemed perfect in this situation. The min. threshold for the same FPR was selected."
   ]
  },
  {
   "cell_type": "code",
   "execution_count": 37,
   "id": "082d7ff7",
   "metadata": {},
   "outputs": [],
   "source": [
    "thres_select=0.72\n",
    "# Threshold changed from 0.5 to 0.72\n",
    "\n",
    "res=[np.where(r>thres_select,1,0) for r in y_pred_prob]   ## Predicted Probability"
   ]
  },
  {
   "cell_type": "code",
   "execution_count": 38,
   "id": "71709328",
   "metadata": {},
   "outputs": [
    {
     "name": "stdout",
     "output_type": "stream",
     "text": [
      "----------------------------------------------------------------------\n",
      "The Confusion Metric\n"
     ]
    },
    {
     "data": {
      "text/plain": [
       "array([[160,  26],\n",
       "       [ 30, 162]], dtype=int64)"
      ]
     },
     "metadata": {},
     "output_type": "display_data"
    },
    {
     "name": "stdout",
     "output_type": "stream",
     "text": [
      "----------------------------------------------------------------------\n",
      "\n",
      "The Classification Report\n",
      "\n",
      "               precision    recall  f1-score   support\n",
      "\n",
      "           0       0.84      0.86      0.85       186\n",
      "           1       0.86      0.84      0.85       192\n",
      "\n",
      "    accuracy                           0.85       378\n",
      "   macro avg       0.85      0.85      0.85       378\n",
      "weighted avg       0.85      0.85      0.85       378\n",
      "\n",
      "----------------------------------------------------------------------\n",
      "\n",
      "FPR Obtained: 13.98%\n",
      "\n"
     ]
    }
   ],
   "source": [
    "print(\"----------------------------------------------------------------------\")\n",
    "\n",
    "print(\"The Confusion Metric\")\n",
    "display(confusion_matrix(test.Label,res))\n",
    "print(\"----------------------------------------------------------------------\")\n",
    "\n",
    "print(\"\\nThe Classification Report\")\n",
    "print(\"\\n\",classification_report(test.Label,res))\n",
    "print(\"----------------------------------------------------------------------\")\n",
    "\n",
    "print(\"\\nFPR Obtained: {}%\\n\".format(round(confusion_matrix(test.Label,res)[0,1]*100/(confusion_matrix(test.Label,res)[0,0]+confusion_matrix(test.Label,res)[0,1]),2)))"
   ]
  }
 ],
 "metadata": {
  "kernelspec": {
   "display_name": "Python 3",
   "language": "python",
   "name": "python3"
  },
  "language_info": {
   "codemirror_mode": {
    "name": "ipython",
    "version": 3
   },
   "file_extension": ".py",
   "mimetype": "text/x-python",
   "name": "python",
   "nbconvert_exporter": "python",
   "pygments_lexer": "ipython3",
   "version": "3.8.8"
  }
 },
 "nbformat": 4,
 "nbformat_minor": 5
}
