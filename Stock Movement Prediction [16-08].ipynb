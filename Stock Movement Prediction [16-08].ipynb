{
 "cells": [
  {
   "cell_type": "code",
   "execution_count": 1,
   "id": "e3f1cd84",
   "metadata": {},
   "outputs": [],
   "source": [
    "import pandas as pd\n",
    "import numpy as np\n",
    "import matplotlib.pyplot as plt\n",
    "import seaborn as sns"
   ]
  },
  {
   "cell_type": "code",
   "execution_count": 2,
   "id": "fb2974bc",
   "metadata": {},
   "outputs": [],
   "source": [
    "import nltk"
   ]
  },
  {
   "cell_type": "code",
   "execution_count": 3,
   "id": "ecb753a7",
   "metadata": {},
   "outputs": [],
   "source": [
    "from nltk.stem import PorterStemmer,WordNetLemmatizer\n",
    "from nltk.corpus import stopwords"
   ]
  },
  {
   "cell_type": "code",
   "execution_count": 4,
   "id": "da27ffd8",
   "metadata": {},
   "outputs": [],
   "source": [
    "df=pd.read_csv(r'C:\\Users\\goura\\Downloads\\Compressed\\DATA\\StockMarketData.csv')"
   ]
  },
  {
   "cell_type": "code",
   "execution_count": 5,
   "id": "d81a9e72",
   "metadata": {},
   "outputs": [
    {
     "data": {
      "text/plain": [
       "(4101, 27)"
      ]
     },
     "execution_count": 5,
     "metadata": {},
     "output_type": "execute_result"
    }
   ],
   "source": [
    "df.shape"
   ]
  },
  {
   "cell_type": "code",
   "execution_count": 6,
   "id": "ef949c73",
   "metadata": {},
   "outputs": [],
   "source": [
    "df['Headlines']=list(np.full(4101,''))"
   ]
  },
  {
   "cell_type": "code",
   "execution_count": 7,
   "id": "15e81134",
   "metadata": {},
   "outputs": [
    {
     "name": "stderr",
     "output_type": "stream",
     "text": [
      "<ipython-input-7-430fa788bbf4>:2: SettingWithCopyWarning: \n",
      "A value is trying to be set on a copy of a slice from a DataFrame\n",
      "\n",
      "See the caveats in the documentation: https://pandas.pydata.org/pandas-docs/stable/user_guide/indexing.html#returning-a-view-versus-a-copy\n",
      "  df['Headlines'][index]=' '.join(str(x) for x in df.iloc[index,2:len(df.columns)])\n"
     ]
    },
    {
     "data": {
      "text/html": [
       "<div>\n",
       "<style scoped>\n",
       "    .dataframe tbody tr th:only-of-type {\n",
       "        vertical-align: middle;\n",
       "    }\n",
       "\n",
       "    .dataframe tbody tr th {\n",
       "        vertical-align: top;\n",
       "    }\n",
       "\n",
       "    .dataframe thead th {\n",
       "        text-align: right;\n",
       "    }\n",
       "</style>\n",
       "<table border=\"1\" class=\"dataframe\">\n",
       "  <thead>\n",
       "    <tr style=\"text-align: right;\">\n",
       "      <th></th>\n",
       "      <th>Date</th>\n",
       "      <th>Label</th>\n",
       "      <th>Top1</th>\n",
       "      <th>Top2</th>\n",
       "      <th>Top3</th>\n",
       "      <th>Top4</th>\n",
       "      <th>Top5</th>\n",
       "      <th>Top6</th>\n",
       "      <th>Top7</th>\n",
       "      <th>Top8</th>\n",
       "      <th>...</th>\n",
       "      <th>Top17</th>\n",
       "      <th>Top18</th>\n",
       "      <th>Top19</th>\n",
       "      <th>Top20</th>\n",
       "      <th>Top21</th>\n",
       "      <th>Top22</th>\n",
       "      <th>Top23</th>\n",
       "      <th>Top24</th>\n",
       "      <th>Top25</th>\n",
       "      <th>Headlines</th>\n",
       "    </tr>\n",
       "  </thead>\n",
       "  <tbody>\n",
       "    <tr>\n",
       "      <th>0</th>\n",
       "      <td>2000-01-03</td>\n",
       "      <td>0</td>\n",
       "      <td>A 'hindrance to operations': extracts from the...</td>\n",
       "      <td>Scorecard</td>\n",
       "      <td>Hughes' instant hit buoys Blues</td>\n",
       "      <td>Jack gets his skates on at ice-cold Alex</td>\n",
       "      <td>Chaos as Maracana builds up for United</td>\n",
       "      <td>Depleted Leicester prevail as Elliott spoils E...</td>\n",
       "      <td>Hungry Spurs sense rich pickings</td>\n",
       "      <td>Gunners so wide of an easy target</td>\n",
       "      <td>...</td>\n",
       "      <td>Hunters threaten Jospin with new battle of the...</td>\n",
       "      <td>Kohl's successor drawn into scandal</td>\n",
       "      <td>The difference between men and women</td>\n",
       "      <td>Sara Denver, nurse turned solicitor</td>\n",
       "      <td>Diana's landmine crusade put Tories in a panic</td>\n",
       "      <td>Yeltsin's resignation caught opposition flat-f...</td>\n",
       "      <td>Russian roulette</td>\n",
       "      <td>Sold out</td>\n",
       "      <td>Recovering a title</td>\n",
       "      <td>A 'hindrance to operations': extracts from the...</td>\n",
       "    </tr>\n",
       "    <tr>\n",
       "      <th>1</th>\n",
       "      <td>2000-01-04</td>\n",
       "      <td>0</td>\n",
       "      <td>Scorecard</td>\n",
       "      <td>The best lake scene</td>\n",
       "      <td>Leader: German sleaze inquiry</td>\n",
       "      <td>Cheerio, boyo</td>\n",
       "      <td>The main recommendations</td>\n",
       "      <td>Has Cubie killed fees?</td>\n",
       "      <td>Has Cubie killed fees?</td>\n",
       "      <td>Has Cubie killed fees?</td>\n",
       "      <td>...</td>\n",
       "      <td>The timing of their lives</td>\n",
       "      <td>Dear doctor</td>\n",
       "      <td>Irish court halts IRA man's extradition to Nor...</td>\n",
       "      <td>Burundi peace initiative fades after rebels re...</td>\n",
       "      <td>PE points the way forward to the ECB</td>\n",
       "      <td>Campaigners keep up pressure on Nazi war crime...</td>\n",
       "      <td>Jane Ratcliffe</td>\n",
       "      <td>Yet more things you wouldn't know without the ...</td>\n",
       "      <td>Millennium bug fails to bite</td>\n",
       "      <td>Scorecard The best lake scene Leader: German s...</td>\n",
       "    </tr>\n",
       "    <tr>\n",
       "      <th>2</th>\n",
       "      <td>2000-01-05</td>\n",
       "      <td>0</td>\n",
       "      <td>Coventry caught on counter by Flo</td>\n",
       "      <td>United's rivals on the road to Rio</td>\n",
       "      <td>Thatcher issues defence before trial by video</td>\n",
       "      <td>Police help Smith lay down the law at Everton</td>\n",
       "      <td>Tale of Trautmann bears two more retellings</td>\n",
       "      <td>England on the rack</td>\n",
       "      <td>Pakistan retaliate with call for video of Walsh</td>\n",
       "      <td>Cullinan continues his Cape monopoly</td>\n",
       "      <td>...</td>\n",
       "      <td>Necaxa (Mexico)</td>\n",
       "      <td>Real Madrid (Spain)</td>\n",
       "      <td>Raja Casablanca (Morocco)</td>\n",
       "      <td>Corinthians (Brazil)</td>\n",
       "      <td>Tony's pet project</td>\n",
       "      <td>Al Nassr (Saudi Arabia)</td>\n",
       "      <td>Ideal Holmes show</td>\n",
       "      <td>Pinochet leaves hospital after tests</td>\n",
       "      <td>Useful links</td>\n",
       "      <td>Coventry caught on counter by Flo United's riv...</td>\n",
       "    </tr>\n",
       "    <tr>\n",
       "      <th>3</th>\n",
       "      <td>2000-01-06</td>\n",
       "      <td>1</td>\n",
       "      <td>Pilgrim knows how to progress</td>\n",
       "      <td>Thatcher facing ban</td>\n",
       "      <td>McIlroy calls for Irish fighting spirit</td>\n",
       "      <td>Leicester bin stadium blueprint</td>\n",
       "      <td>United braced for Mexican wave</td>\n",
       "      <td>Auntie back in fashion, even if the dress look...</td>\n",
       "      <td>Shoaib appeal goes to the top</td>\n",
       "      <td>Hussain hurt by 'shambles' but lays blame on e...</td>\n",
       "      <td>...</td>\n",
       "      <td>BBC worst hit as digital TV begins to bite</td>\n",
       "      <td>How much can you pay for...</td>\n",
       "      <td>Christmas glitches</td>\n",
       "      <td>Upending a table, Chopping a line and Scoring ...</td>\n",
       "      <td>Scientific evidence 'unreliable', defence claims</td>\n",
       "      <td>Fusco wins judicial review in extradition case</td>\n",
       "      <td>Rebels thwart Russian advance</td>\n",
       "      <td>Blair orders shake-up of failing NHS</td>\n",
       "      <td>Lessons of law's hard heart</td>\n",
       "      <td>Pilgrim knows how to progress Thatcher facing ...</td>\n",
       "    </tr>\n",
       "    <tr>\n",
       "      <th>4</th>\n",
       "      <td>2000-01-07</td>\n",
       "      <td>1</td>\n",
       "      <td>Hitches and Horlocks</td>\n",
       "      <td>Beckham off but United survive</td>\n",
       "      <td>Breast cancer screening</td>\n",
       "      <td>Alan Parker</td>\n",
       "      <td>Guardian readers: are you all whingers?</td>\n",
       "      <td>Hollywood Beyond</td>\n",
       "      <td>Ashes and diamonds</td>\n",
       "      <td>Whingers - a formidable minority</td>\n",
       "      <td>...</td>\n",
       "      <td>Most wanted:  Chloe lunettes</td>\n",
       "      <td>Return of the cane 'completely off the agenda'</td>\n",
       "      <td>From Sleepy Hollow to Greeneland</td>\n",
       "      <td>Blunkett outlines vision for over 11s</td>\n",
       "      <td>Embattled Dobson attacks 'play now, pay later'...</td>\n",
       "      <td>Doom and the Dome</td>\n",
       "      <td>What is the north-south divide?</td>\n",
       "      <td>Aitken released from jail</td>\n",
       "      <td>Gone aloft</td>\n",
       "      <td>Hitches and Horlocks Beckham off but United su...</td>\n",
       "    </tr>\n",
       "  </tbody>\n",
       "</table>\n",
       "<p>5 rows × 28 columns</p>\n",
       "</div>"
      ],
      "text/plain": [
       "         Date  Label                                               Top1  \\\n",
       "0  2000-01-03      0  A 'hindrance to operations': extracts from the...   \n",
       "1  2000-01-04      0                                          Scorecard   \n",
       "2  2000-01-05      0                  Coventry caught on counter by Flo   \n",
       "3  2000-01-06      1                      Pilgrim knows how to progress   \n",
       "4  2000-01-07      1                               Hitches and Horlocks   \n",
       "\n",
       "                                 Top2  \\\n",
       "0                           Scorecard   \n",
       "1                 The best lake scene   \n",
       "2  United's rivals on the road to Rio   \n",
       "3                 Thatcher facing ban   \n",
       "4      Beckham off but United survive   \n",
       "\n",
       "                                            Top3  \\\n",
       "0                Hughes' instant hit buoys Blues   \n",
       "1                  Leader: German sleaze inquiry   \n",
       "2  Thatcher issues defence before trial by video   \n",
       "3        McIlroy calls for Irish fighting spirit   \n",
       "4                        Breast cancer screening   \n",
       "\n",
       "                                            Top4  \\\n",
       "0       Jack gets his skates on at ice-cold Alex   \n",
       "1                                  Cheerio, boyo   \n",
       "2  Police help Smith lay down the law at Everton   \n",
       "3                Leicester bin stadium blueprint   \n",
       "4                                    Alan Parker   \n",
       "\n",
       "                                          Top5  \\\n",
       "0       Chaos as Maracana builds up for United   \n",
       "1                     The main recommendations   \n",
       "2  Tale of Trautmann bears two more retellings   \n",
       "3               United braced for Mexican wave   \n",
       "4      Guardian readers: are you all whingers?   \n",
       "\n",
       "                                                Top6  \\\n",
       "0  Depleted Leicester prevail as Elliott spoils E...   \n",
       "1                             Has Cubie killed fees?   \n",
       "2                                England on the rack   \n",
       "3  Auntie back in fashion, even if the dress look...   \n",
       "4                                   Hollywood Beyond   \n",
       "\n",
       "                                              Top7  \\\n",
       "0                 Hungry Spurs sense rich pickings   \n",
       "1                           Has Cubie killed fees?   \n",
       "2  Pakistan retaliate with call for video of Walsh   \n",
       "3                    Shoaib appeal goes to the top   \n",
       "4                               Ashes and diamonds   \n",
       "\n",
       "                                                Top8  ...  \\\n",
       "0                  Gunners so wide of an easy target  ...   \n",
       "1                             Has Cubie killed fees?  ...   \n",
       "2               Cullinan continues his Cape monopoly  ...   \n",
       "3  Hussain hurt by 'shambles' but lays blame on e...  ...   \n",
       "4                   Whingers - a formidable minority  ...   \n",
       "\n",
       "                                               Top17  \\\n",
       "0  Hunters threaten Jospin with new battle of the...   \n",
       "1                          The timing of their lives   \n",
       "2                                    Necaxa (Mexico)   \n",
       "3         BBC worst hit as digital TV begins to bite   \n",
       "4                       Most wanted:  Chloe lunettes   \n",
       "\n",
       "                                            Top18  \\\n",
       "0             Kohl's successor drawn into scandal   \n",
       "1                                     Dear doctor   \n",
       "2                             Real Madrid (Spain)   \n",
       "3                     How much can you pay for...   \n",
       "4  Return of the cane 'completely off the agenda'   \n",
       "\n",
       "                                               Top19  \\\n",
       "0               The difference between men and women   \n",
       "1  Irish court halts IRA man's extradition to Nor...   \n",
       "2                          Raja Casablanca (Morocco)   \n",
       "3                                 Christmas glitches   \n",
       "4                   From Sleepy Hollow to Greeneland   \n",
       "\n",
       "                                               Top20  \\\n",
       "0                Sara Denver, nurse turned solicitor   \n",
       "1  Burundi peace initiative fades after rebels re...   \n",
       "2                               Corinthians (Brazil)   \n",
       "3  Upending a table, Chopping a line and Scoring ...   \n",
       "4              Blunkett outlines vision for over 11s   \n",
       "\n",
       "                                               Top21  \\\n",
       "0     Diana's landmine crusade put Tories in a panic   \n",
       "1               PE points the way forward to the ECB   \n",
       "2                                 Tony's pet project   \n",
       "3   Scientific evidence 'unreliable', defence claims   \n",
       "4  Embattled Dobson attacks 'play now, pay later'...   \n",
       "\n",
       "                                               Top22  \\\n",
       "0  Yeltsin's resignation caught opposition flat-f...   \n",
       "1  Campaigners keep up pressure on Nazi war crime...   \n",
       "2                            Al Nassr (Saudi Arabia)   \n",
       "3     Fusco wins judicial review in extradition case   \n",
       "4                                  Doom and the Dome   \n",
       "\n",
       "                             Top23  \\\n",
       "0                 Russian roulette   \n",
       "1                   Jane Ratcliffe   \n",
       "2                Ideal Holmes show   \n",
       "3    Rebels thwart Russian advance   \n",
       "4  What is the north-south divide?   \n",
       "\n",
       "                                               Top24  \\\n",
       "0                                           Sold out   \n",
       "1  Yet more things you wouldn't know without the ...   \n",
       "2               Pinochet leaves hospital after tests   \n",
       "3               Blair orders shake-up of failing NHS   \n",
       "4                          Aitken released from jail   \n",
       "\n",
       "                          Top25  \\\n",
       "0            Recovering a title   \n",
       "1  Millennium bug fails to bite   \n",
       "2                  Useful links   \n",
       "3   Lessons of law's hard heart   \n",
       "4                    Gone aloft   \n",
       "\n",
       "                                           Headlines  \n",
       "0  A 'hindrance to operations': extracts from the...  \n",
       "1  Scorecard The best lake scene Leader: German s...  \n",
       "2  Coventry caught on counter by Flo United's riv...  \n",
       "3  Pilgrim knows how to progress Thatcher facing ...  \n",
       "4  Hitches and Horlocks Beckham off but United su...  \n",
       "\n",
       "[5 rows x 28 columns]"
      ]
     },
     "execution_count": 7,
     "metadata": {},
     "output_type": "execute_result"
    }
   ],
   "source": [
    "for index in range(0,len(df.index)):\n",
    "    df['Headlines'][index]=' '.join(str(x) for x in df.iloc[index,2:len(df.columns)])\n",
    "df.head()"
   ]
  },
  {
   "cell_type": "code",
   "execution_count": 9,
   "id": "db2a1a58",
   "metadata": {},
   "outputs": [],
   "source": [
    "df=df[['Date','Label','Headlines']]"
   ]
  },
  {
   "cell_type": "code",
   "execution_count": 10,
   "id": "5dde30eb",
   "metadata": {},
   "outputs": [
    {
     "data": {
      "text/html": [
       "<div>\n",
       "<style scoped>\n",
       "    .dataframe tbody tr th:only-of-type {\n",
       "        vertical-align: middle;\n",
       "    }\n",
       "\n",
       "    .dataframe tbody tr th {\n",
       "        vertical-align: top;\n",
       "    }\n",
       "\n",
       "    .dataframe thead th {\n",
       "        text-align: right;\n",
       "    }\n",
       "</style>\n",
       "<table border=\"1\" class=\"dataframe\">\n",
       "  <thead>\n",
       "    <tr style=\"text-align: right;\">\n",
       "      <th></th>\n",
       "      <th>Date</th>\n",
       "      <th>Label</th>\n",
       "      <th>Headlines</th>\n",
       "    </tr>\n",
       "  </thead>\n",
       "  <tbody>\n",
       "    <tr>\n",
       "      <th>0</th>\n",
       "      <td>2000-01-03</td>\n",
       "      <td>0</td>\n",
       "      <td>A 'hindrance to operations': extracts from the...</td>\n",
       "    </tr>\n",
       "    <tr>\n",
       "      <th>1</th>\n",
       "      <td>2000-01-04</td>\n",
       "      <td>0</td>\n",
       "      <td>Scorecard The best lake scene Leader: German s...</td>\n",
       "    </tr>\n",
       "    <tr>\n",
       "      <th>2</th>\n",
       "      <td>2000-01-05</td>\n",
       "      <td>0</td>\n",
       "      <td>Coventry caught on counter by Flo United's riv...</td>\n",
       "    </tr>\n",
       "    <tr>\n",
       "      <th>3</th>\n",
       "      <td>2000-01-06</td>\n",
       "      <td>1</td>\n",
       "      <td>Pilgrim knows how to progress Thatcher facing ...</td>\n",
       "    </tr>\n",
       "    <tr>\n",
       "      <th>4</th>\n",
       "      <td>2000-01-07</td>\n",
       "      <td>1</td>\n",
       "      <td>Hitches and Horlocks Beckham off but United su...</td>\n",
       "    </tr>\n",
       "    <tr>\n",
       "      <th>...</th>\n",
       "      <td>...</td>\n",
       "      <td>...</td>\n",
       "      <td>...</td>\n",
       "    </tr>\n",
       "    <tr>\n",
       "      <th>4096</th>\n",
       "      <td>2016-06-27</td>\n",
       "      <td>0</td>\n",
       "      <td>Barclays and RBS shares suspended from trading...</td>\n",
       "    </tr>\n",
       "    <tr>\n",
       "      <th>4097</th>\n",
       "      <td>2016-06-28</td>\n",
       "      <td>1</td>\n",
       "      <td>2,500 Scientists To Australia: If You Want To ...</td>\n",
       "    </tr>\n",
       "    <tr>\n",
       "      <th>4098</th>\n",
       "      <td>2016-06-29</td>\n",
       "      <td>1</td>\n",
       "      <td>Explosion At Airport In Istanbul Yemeni former...</td>\n",
       "    </tr>\n",
       "    <tr>\n",
       "      <th>4099</th>\n",
       "      <td>2016-06-30</td>\n",
       "      <td>1</td>\n",
       "      <td>Jamaica proposes marijuana dispensers for tour...</td>\n",
       "    </tr>\n",
       "    <tr>\n",
       "      <th>4100</th>\n",
       "      <td>2016-07-01</td>\n",
       "      <td>1</td>\n",
       "      <td>A 117-year-old woman in Mexico City finally re...</td>\n",
       "    </tr>\n",
       "  </tbody>\n",
       "</table>\n",
       "<p>4101 rows × 3 columns</p>\n",
       "</div>"
      ],
      "text/plain": [
       "            Date  Label                                          Headlines\n",
       "0     2000-01-03      0  A 'hindrance to operations': extracts from the...\n",
       "1     2000-01-04      0  Scorecard The best lake scene Leader: German s...\n",
       "2     2000-01-05      0  Coventry caught on counter by Flo United's riv...\n",
       "3     2000-01-06      1  Pilgrim knows how to progress Thatcher facing ...\n",
       "4     2000-01-07      1  Hitches and Horlocks Beckham off but United su...\n",
       "...          ...    ...                                                ...\n",
       "4096  2016-06-27      0  Barclays and RBS shares suspended from trading...\n",
       "4097  2016-06-28      1  2,500 Scientists To Australia: If You Want To ...\n",
       "4098  2016-06-29      1  Explosion At Airport In Istanbul Yemeni former...\n",
       "4099  2016-06-30      1  Jamaica proposes marijuana dispensers for tour...\n",
       "4100  2016-07-01      1  A 117-year-old woman in Mexico City finally re...\n",
       "\n",
       "[4101 rows x 3 columns]"
      ]
     },
     "execution_count": 10,
     "metadata": {},
     "output_type": "execute_result"
    }
   ],
   "source": [
    "df"
   ]
  },
  {
   "cell_type": "code",
   "execution_count": 11,
   "id": "3a693269",
   "metadata": {},
   "outputs": [],
   "source": [
    "import re"
   ]
  },
  {
   "cell_type": "code",
   "execution_count": 18,
   "id": "64a444ef",
   "metadata": {},
   "outputs": [
    {
     "name": "stderr",
     "output_type": "stream",
     "text": [
      "C:\\Users\\goura\\anaconda3\\lib\\site-packages\\pandas\\core\\generic.py:5494: SettingWithCopyWarning: \n",
      "A value is trying to be set on a copy of a slice from a DataFrame.\n",
      "Try using .loc[row_indexer,col_indexer] = value instead\n",
      "\n",
      "See the caveats in the documentation: https://pandas.pydata.org/pandas-docs/stable/user_guide/indexing.html#returning-a-view-versus-a-copy\n",
      "  self[name] = value\n"
     ]
    }
   ],
   "source": [
    "df.Headlines=[re.sub('[^a-zA-Z]',' ',k).lower() for k in df.Headlines]"
   ]
  },
  {
   "cell_type": "code",
   "execution_count": 19,
   "id": "44b239cb",
   "metadata": {},
   "outputs": [
    {
     "data": {
      "text/html": [
       "<div>\n",
       "<style scoped>\n",
       "    .dataframe tbody tr th:only-of-type {\n",
       "        vertical-align: middle;\n",
       "    }\n",
       "\n",
       "    .dataframe tbody tr th {\n",
       "        vertical-align: top;\n",
       "    }\n",
       "\n",
       "    .dataframe thead th {\n",
       "        text-align: right;\n",
       "    }\n",
       "</style>\n",
       "<table border=\"1\" class=\"dataframe\">\n",
       "  <thead>\n",
       "    <tr style=\"text-align: right;\">\n",
       "      <th></th>\n",
       "      <th>Date</th>\n",
       "      <th>Label</th>\n",
       "      <th>Headlines</th>\n",
       "    </tr>\n",
       "  </thead>\n",
       "  <tbody>\n",
       "    <tr>\n",
       "      <th>0</th>\n",
       "      <td>2000-01-03</td>\n",
       "      <td>0</td>\n",
       "      <td>a  hindrance to operations   extracts from the...</td>\n",
       "    </tr>\n",
       "    <tr>\n",
       "      <th>1</th>\n",
       "      <td>2000-01-04</td>\n",
       "      <td>0</td>\n",
       "      <td>scorecard the best lake scene leader  german s...</td>\n",
       "    </tr>\n",
       "    <tr>\n",
       "      <th>2</th>\n",
       "      <td>2000-01-05</td>\n",
       "      <td>0</td>\n",
       "      <td>coventry caught on counter by flo united s riv...</td>\n",
       "    </tr>\n",
       "    <tr>\n",
       "      <th>3</th>\n",
       "      <td>2000-01-06</td>\n",
       "      <td>1</td>\n",
       "      <td>pilgrim knows how to progress thatcher facing ...</td>\n",
       "    </tr>\n",
       "    <tr>\n",
       "      <th>4</th>\n",
       "      <td>2000-01-07</td>\n",
       "      <td>1</td>\n",
       "      <td>hitches and horlocks beckham off but united su...</td>\n",
       "    </tr>\n",
       "  </tbody>\n",
       "</table>\n",
       "</div>"
      ],
      "text/plain": [
       "         Date  Label                                          Headlines\n",
       "0  2000-01-03      0  a  hindrance to operations   extracts from the...\n",
       "1  2000-01-04      0  scorecard the best lake scene leader  german s...\n",
       "2  2000-01-05      0  coventry caught on counter by flo united s riv...\n",
       "3  2000-01-06      1  pilgrim knows how to progress thatcher facing ...\n",
       "4  2000-01-07      1  hitches and horlocks beckham off but united su..."
      ]
     },
     "execution_count": 19,
     "metadata": {},
     "output_type": "execute_result"
    }
   ],
   "source": [
    "df.head()"
   ]
  },
  {
   "cell_type": "code",
   "execution_count": 22,
   "id": "6fdb1075",
   "metadata": {},
   "outputs": [],
   "source": [
    "wl=WordNetLemmatizer()"
   ]
  },
  {
   "cell_type": "code",
   "execution_count": 23,
   "id": "0eb04195",
   "metadata": {
    "scrolled": true
   },
   "outputs": [
    {
     "name": "stderr",
     "output_type": "stream",
     "text": [
      "<ipython-input-23-7ff6e87a8c5f>:4: SettingWithCopyWarning: \n",
      "A value is trying to be set on a copy of a slice from a DataFrame\n",
      "\n",
      "See the caveats in the documentation: https://pandas.pydata.org/pandas-docs/stable/user_guide/indexing.html#returning-a-view-versus-a-copy\n",
      "  df.Headlines[i]=' '.join(words)\n"
     ]
    }
   ],
   "source": [
    "for i in range(len(df.Headlines)):\n",
    "    words=nltk.word_tokenize(df.Headlines[i])\n",
    "    words=[wl.lemmatize(word) for word in words if word not in set(stopwords.words('english'))]\n",
    "    df.Headlines[i]=' '.join(words)"
   ]
  },
  {
   "cell_type": "code",
   "execution_count": 340,
   "id": "df7f27f7",
   "metadata": {},
   "outputs": [],
   "source": [
    "from sklearn.model_selection import LeaveOneOut,cross_val_score"
   ]
  },
  {
   "cell_type": "code",
   "execution_count": 254,
   "id": "725f0f59",
   "metadata": {},
   "outputs": [],
   "source": [
    "headlines=cv.transform(df.Headlines)"
   ]
  },
  {
   "cell_type": "code",
   "execution_count": 341,
   "id": "9ff1b41e",
   "metadata": {
    "scrolled": true
   },
   "outputs": [],
   "source": [
    "kf=LeaveOneOut()\n",
    "scores=cross_val_score(nb,headlines,df.Label,cv=kf)"
   ]
  },
  {
   "cell_type": "code",
   "execution_count": 339,
   "id": "3eba9423",
   "metadata": {},
   "outputs": [
    {
     "data": {
      "text/plain": [
       "0.5130550115720135"
      ]
     },
     "execution_count": 339,
     "metadata": {},
     "output_type": "execute_result"
    }
   ],
   "source": [
    "scores.mean()"
   ]
  },
  {
   "cell_type": "code",
   "execution_count": 87,
   "id": "1b10fb6f",
   "metadata": {},
   "outputs": [],
   "source": [
    "train = df[df['Date'] < '20150101']\n",
    "test = df[df['Date'] > '20141231']"
   ]
  },
  {
   "cell_type": "code",
   "execution_count": 24,
   "id": "7da51f80",
   "metadata": {},
   "outputs": [],
   "source": [
    "train_size=0.91\n",
    "train=df[:int(train_size*len(df))]\n",
    "test=df[int(train_size*len(df)):]"
   ]
  },
  {
   "cell_type": "code",
   "execution_count": 88,
   "id": "87663c3d",
   "metadata": {},
   "outputs": [
    {
     "ename": "KeyError",
     "evalue": "\"['Date'] not found in axis\"",
     "output_type": "error",
     "traceback": [
      "\u001b[1;31m---------------------------------------------------------------------------\u001b[0m",
      "\u001b[1;31mKeyError\u001b[0m                                  Traceback (most recent call last)",
      "\u001b[1;32m<ipython-input-88-b371622d7127>\u001b[0m in \u001b[0;36m<module>\u001b[1;34m\u001b[0m\n\u001b[1;32m----> 1\u001b[1;33m \u001b[0mtest\u001b[0m\u001b[1;33m=\u001b[0m\u001b[0mtest\u001b[0m\u001b[1;33m.\u001b[0m\u001b[0mdrop\u001b[0m\u001b[1;33m(\u001b[0m\u001b[1;34m'Date'\u001b[0m\u001b[1;33m,\u001b[0m\u001b[0maxis\u001b[0m\u001b[1;33m=\u001b[0m\u001b[1;36m0\u001b[0m\u001b[1;33m)\u001b[0m\u001b[1;33m\u001b[0m\u001b[1;33m\u001b[0m\u001b[0m\n\u001b[0m\u001b[0;32m      2\u001b[0m \u001b[0mtrain\u001b[0m\u001b[1;33m=\u001b[0m\u001b[0mtest\u001b[0m\u001b[1;33m.\u001b[0m\u001b[0mdrop\u001b[0m\u001b[1;33m(\u001b[0m\u001b[1;34m'Date'\u001b[0m\u001b[1;33m,\u001b[0m\u001b[0maxis\u001b[0m\u001b[1;33m=\u001b[0m\u001b[1;36m0\u001b[0m\u001b[1;33m)\u001b[0m\u001b[1;33m\u001b[0m\u001b[1;33m\u001b[0m\u001b[0m\n",
      "\u001b[1;32m~\\anaconda3\\lib\\site-packages\\pandas\\core\\frame.py\u001b[0m in \u001b[0;36mdrop\u001b[1;34m(self, labels, axis, index, columns, level, inplace, errors)\u001b[0m\n\u001b[0;32m   4306\u001b[0m                 \u001b[0mweight\u001b[0m  \u001b[1;36m1.0\u001b[0m     \u001b[1;36m0.8\u001b[0m\u001b[1;33m\u001b[0m\u001b[1;33m\u001b[0m\u001b[0m\n\u001b[0;32m   4307\u001b[0m         \"\"\"\n\u001b[1;32m-> 4308\u001b[1;33m         return super().drop(\n\u001b[0m\u001b[0;32m   4309\u001b[0m             \u001b[0mlabels\u001b[0m\u001b[1;33m=\u001b[0m\u001b[0mlabels\u001b[0m\u001b[1;33m,\u001b[0m\u001b[1;33m\u001b[0m\u001b[1;33m\u001b[0m\u001b[0m\n\u001b[0;32m   4310\u001b[0m             \u001b[0maxis\u001b[0m\u001b[1;33m=\u001b[0m\u001b[0maxis\u001b[0m\u001b[1;33m,\u001b[0m\u001b[1;33m\u001b[0m\u001b[1;33m\u001b[0m\u001b[0m\n",
      "\u001b[1;32m~\\anaconda3\\lib\\site-packages\\pandas\\core\\generic.py\u001b[0m in \u001b[0;36mdrop\u001b[1;34m(self, labels, axis, index, columns, level, inplace, errors)\u001b[0m\n\u001b[0;32m   4151\u001b[0m         \u001b[1;32mfor\u001b[0m \u001b[0maxis\u001b[0m\u001b[1;33m,\u001b[0m \u001b[0mlabels\u001b[0m \u001b[1;32min\u001b[0m \u001b[0maxes\u001b[0m\u001b[1;33m.\u001b[0m\u001b[0mitems\u001b[0m\u001b[1;33m(\u001b[0m\u001b[1;33m)\u001b[0m\u001b[1;33m:\u001b[0m\u001b[1;33m\u001b[0m\u001b[1;33m\u001b[0m\u001b[0m\n\u001b[0;32m   4152\u001b[0m             \u001b[1;32mif\u001b[0m \u001b[0mlabels\u001b[0m \u001b[1;32mis\u001b[0m \u001b[1;32mnot\u001b[0m \u001b[1;32mNone\u001b[0m\u001b[1;33m:\u001b[0m\u001b[1;33m\u001b[0m\u001b[1;33m\u001b[0m\u001b[0m\n\u001b[1;32m-> 4153\u001b[1;33m                 \u001b[0mobj\u001b[0m \u001b[1;33m=\u001b[0m \u001b[0mobj\u001b[0m\u001b[1;33m.\u001b[0m\u001b[0m_drop_axis\u001b[0m\u001b[1;33m(\u001b[0m\u001b[0mlabels\u001b[0m\u001b[1;33m,\u001b[0m \u001b[0maxis\u001b[0m\u001b[1;33m,\u001b[0m \u001b[0mlevel\u001b[0m\u001b[1;33m=\u001b[0m\u001b[0mlevel\u001b[0m\u001b[1;33m,\u001b[0m \u001b[0merrors\u001b[0m\u001b[1;33m=\u001b[0m\u001b[0merrors\u001b[0m\u001b[1;33m)\u001b[0m\u001b[1;33m\u001b[0m\u001b[1;33m\u001b[0m\u001b[0m\n\u001b[0m\u001b[0;32m   4154\u001b[0m \u001b[1;33m\u001b[0m\u001b[0m\n\u001b[0;32m   4155\u001b[0m         \u001b[1;32mif\u001b[0m \u001b[0minplace\u001b[0m\u001b[1;33m:\u001b[0m\u001b[1;33m\u001b[0m\u001b[1;33m\u001b[0m\u001b[0m\n",
      "\u001b[1;32m~\\anaconda3\\lib\\site-packages\\pandas\\core\\generic.py\u001b[0m in \u001b[0;36m_drop_axis\u001b[1;34m(self, labels, axis, level, errors)\u001b[0m\n\u001b[0;32m   4186\u001b[0m                 \u001b[0mnew_axis\u001b[0m \u001b[1;33m=\u001b[0m \u001b[0maxis\u001b[0m\u001b[1;33m.\u001b[0m\u001b[0mdrop\u001b[0m\u001b[1;33m(\u001b[0m\u001b[0mlabels\u001b[0m\u001b[1;33m,\u001b[0m \u001b[0mlevel\u001b[0m\u001b[1;33m=\u001b[0m\u001b[0mlevel\u001b[0m\u001b[1;33m,\u001b[0m \u001b[0merrors\u001b[0m\u001b[1;33m=\u001b[0m\u001b[0merrors\u001b[0m\u001b[1;33m)\u001b[0m\u001b[1;33m\u001b[0m\u001b[1;33m\u001b[0m\u001b[0m\n\u001b[0;32m   4187\u001b[0m             \u001b[1;32melse\u001b[0m\u001b[1;33m:\u001b[0m\u001b[1;33m\u001b[0m\u001b[1;33m\u001b[0m\u001b[0m\n\u001b[1;32m-> 4188\u001b[1;33m                 \u001b[0mnew_axis\u001b[0m \u001b[1;33m=\u001b[0m \u001b[0maxis\u001b[0m\u001b[1;33m.\u001b[0m\u001b[0mdrop\u001b[0m\u001b[1;33m(\u001b[0m\u001b[0mlabels\u001b[0m\u001b[1;33m,\u001b[0m \u001b[0merrors\u001b[0m\u001b[1;33m=\u001b[0m\u001b[0merrors\u001b[0m\u001b[1;33m)\u001b[0m\u001b[1;33m\u001b[0m\u001b[1;33m\u001b[0m\u001b[0m\n\u001b[0m\u001b[0;32m   4189\u001b[0m             \u001b[0mresult\u001b[0m \u001b[1;33m=\u001b[0m \u001b[0mself\u001b[0m\u001b[1;33m.\u001b[0m\u001b[0mreindex\u001b[0m\u001b[1;33m(\u001b[0m\u001b[1;33m**\u001b[0m\u001b[1;33m{\u001b[0m\u001b[0maxis_name\u001b[0m\u001b[1;33m:\u001b[0m \u001b[0mnew_axis\u001b[0m\u001b[1;33m}\u001b[0m\u001b[1;33m)\u001b[0m\u001b[1;33m\u001b[0m\u001b[1;33m\u001b[0m\u001b[0m\n\u001b[0;32m   4190\u001b[0m \u001b[1;33m\u001b[0m\u001b[0m\n",
      "\u001b[1;32m~\\anaconda3\\lib\\site-packages\\pandas\\core\\indexes\\base.py\u001b[0m in \u001b[0;36mdrop\u001b[1;34m(self, labels, errors)\u001b[0m\n\u001b[0;32m   5589\u001b[0m         \u001b[1;32mif\u001b[0m \u001b[0mmask\u001b[0m\u001b[1;33m.\u001b[0m\u001b[0many\u001b[0m\u001b[1;33m(\u001b[0m\u001b[1;33m)\u001b[0m\u001b[1;33m:\u001b[0m\u001b[1;33m\u001b[0m\u001b[1;33m\u001b[0m\u001b[0m\n\u001b[0;32m   5590\u001b[0m             \u001b[1;32mif\u001b[0m \u001b[0merrors\u001b[0m \u001b[1;33m!=\u001b[0m \u001b[1;34m\"ignore\"\u001b[0m\u001b[1;33m:\u001b[0m\u001b[1;33m\u001b[0m\u001b[1;33m\u001b[0m\u001b[0m\n\u001b[1;32m-> 5591\u001b[1;33m                 \u001b[1;32mraise\u001b[0m \u001b[0mKeyError\u001b[0m\u001b[1;33m(\u001b[0m\u001b[1;34mf\"{labels[mask]} not found in axis\"\u001b[0m\u001b[1;33m)\u001b[0m\u001b[1;33m\u001b[0m\u001b[1;33m\u001b[0m\u001b[0m\n\u001b[0m\u001b[0;32m   5592\u001b[0m             \u001b[0mindexer\u001b[0m \u001b[1;33m=\u001b[0m \u001b[0mindexer\u001b[0m\u001b[1;33m[\u001b[0m\u001b[1;33m~\u001b[0m\u001b[0mmask\u001b[0m\u001b[1;33m]\u001b[0m\u001b[1;33m\u001b[0m\u001b[1;33m\u001b[0m\u001b[0m\n\u001b[0;32m   5593\u001b[0m         \u001b[1;32mreturn\u001b[0m \u001b[0mself\u001b[0m\u001b[1;33m.\u001b[0m\u001b[0mdelete\u001b[0m\u001b[1;33m(\u001b[0m\u001b[0mindexer\u001b[0m\u001b[1;33m)\u001b[0m\u001b[1;33m\u001b[0m\u001b[1;33m\u001b[0m\u001b[0m\n",
      "\u001b[1;31mKeyError\u001b[0m: \"['Date'] not found in axis\""
     ]
    }
   ],
   "source": [
    "test=test.drop('Date',axis=0)\n",
    "train=test.drop('Date',axis=0)"
   ]
  },
  {
   "cell_type": "code",
   "execution_count": 89,
   "id": "1a528e8e",
   "metadata": {},
   "outputs": [],
   "source": [
    "from sklearn.feature_extraction.text import TfidfVectorizer,CountVectorizer"
   ]
  },
  {
   "cell_type": "code",
   "execution_count": 90,
   "id": "a61bfc9c",
   "metadata": {},
   "outputs": [],
   "source": [
    "cv=CountVectorizer(ngram_range=(2,2))"
   ]
  },
  {
   "cell_type": "code",
   "execution_count": 91,
   "id": "515a3bd3",
   "metadata": {},
   "outputs": [],
   "source": [
    "train_features=cv.fit_transform(train.Headlines)\n",
    "test_features=cv.transform(test.Headlines)"
   ]
  },
  {
   "cell_type": "code",
   "execution_count": 92,
   "id": "3bd2280b",
   "metadata": {},
   "outputs": [],
   "source": [
    "train_target=train.Label\n",
    "test_target=test.Label"
   ]
  },
  {
   "cell_type": "code",
   "execution_count": 93,
   "id": "d54e6556",
   "metadata": {},
   "outputs": [
    {
     "data": {
      "text/plain": [
       "3723    1\n",
       "3724    0\n",
       "3725    0\n",
       "3726    1\n",
       "3727    1\n",
       "       ..\n",
       "4096    0\n",
       "4097    1\n",
       "4098    1\n",
       "4099    1\n",
       "4100    1\n",
       "Name: Label, Length: 378, dtype: int64"
      ]
     },
     "execution_count": 93,
     "metadata": {},
     "output_type": "execute_result"
    }
   ],
   "source": [
    "test_target"
   ]
  },
  {
   "cell_type": "code",
   "execution_count": 94,
   "id": "4ddaade8",
   "metadata": {},
   "outputs": [],
   "source": [
    "from sklearn.naive_bayes import MultinomialNB\n",
    "from sklearn.ensemble import RandomForestClassifier"
   ]
  },
  {
   "cell_type": "code",
   "execution_count": 137,
   "id": "a1e25d35",
   "metadata": {},
   "outputs": [
    {
     "data": {
      "text/plain": [
       "MultinomialNB(alpha=95)"
      ]
     },
     "execution_count": 137,
     "metadata": {},
     "output_type": "execute_result"
    }
   ],
   "source": [
    "rf=RandomForestClassifier()\n",
    "nb=MultinomialNB(alpha=95)\n",
    "nb.fit(train_features,train_target)"
   ]
  },
  {
   "cell_type": "code",
   "execution_count": 138,
   "id": "aaddabf8",
   "metadata": {},
   "outputs": [],
   "source": [
    "pred=nb.predict(test_features)"
   ]
  },
  {
   "cell_type": "code",
   "execution_count": 139,
   "id": "d8ff8dac",
   "metadata": {},
   "outputs": [
    {
     "data": {
      "text/plain": [
       "0.8492063492063492"
      ]
     },
     "execution_count": 139,
     "metadata": {},
     "output_type": "execute_result"
    }
   ],
   "source": [
    "nb.score(train_features,train.Label)\n",
    "nb.score(test_features,test.Label)"
   ]
  },
  {
   "cell_type": "code",
   "execution_count": 140,
   "id": "5caac346",
   "metadata": {},
   "outputs": [],
   "source": [
    "from sklearn.metrics import confusion_matrix,classification_report,accuracy_score,"
   ]
  },
  {
   "cell_type": "code",
   "execution_count": 141,
   "id": "584be6e9",
   "metadata": {},
   "outputs": [
    {
     "data": {
      "text/plain": [
       "array([[130,  56],\n",
       "       [  1, 191]], dtype=int64)"
      ]
     },
     "execution_count": 141,
     "metadata": {},
     "output_type": "execute_result"
    }
   ],
   "source": [
    "confusion_matrix(test_target,pred)"
   ]
  },
  {
   "cell_type": "code",
   "execution_count": 142,
   "id": "988e3695",
   "metadata": {},
   "outputs": [
    {
     "name": "stdout",
     "output_type": "stream",
     "text": [
      "              precision    recall  f1-score   support\n",
      "\n",
      "           0       0.99      0.70      0.82       186\n",
      "           1       0.77      0.99      0.87       192\n",
      "\n",
      "    accuracy                           0.85       378\n",
      "   macro avg       0.88      0.85      0.85       378\n",
      "weighted avg       0.88      0.85      0.85       378\n",
      "\n"
     ]
    }
   ],
   "source": [
    "print(classification_report(test_target,pred))"
   ]
  },
  {
   "cell_type": "code",
   "execution_count": 131,
   "id": "d29bc3c5",
   "metadata": {},
   "outputs": [],
   "source": [
    "alpha={'alpha':list(np.arange(50,100,1))}"
   ]
  },
  {
   "cell_type": "code",
   "execution_count": 132,
   "id": "8afd088f",
   "metadata": {},
   "outputs": [],
   "source": [
    "from sklearn.model_selection import RandomizedSearchCV"
   ]
  },
  {
   "cell_type": "code",
   "execution_count": 133,
   "id": "ad6954ba",
   "metadata": {},
   "outputs": [],
   "source": [
    "rs=RandomizedSearchCV(nb,param_distributions=alpha,cv=10,scoring='accuracy')"
   ]
  },
  {
   "cell_type": "code",
   "execution_count": 134,
   "id": "507340d6",
   "metadata": {},
   "outputs": [],
   "source": [
    "model=rs.fit(train_features,train.Label)"
   ]
  },
  {
   "cell_type": "code",
   "execution_count": 135,
   "id": "0792149e",
   "metadata": {},
   "outputs": [
    {
     "data": {
      "text/plain": [
       "0.5084490462387504"
      ]
     },
     "execution_count": 135,
     "metadata": {},
     "output_type": "execute_result"
    }
   ],
   "source": [
    "model.best_score_"
   ]
  },
  {
   "cell_type": "code",
   "execution_count": 136,
   "id": "9a81a105",
   "metadata": {},
   "outputs": [
    {
     "data": {
      "text/plain": [
       "{'alpha': 95}"
      ]
     },
     "execution_count": 136,
     "metadata": {},
     "output_type": "execute_result"
    }
   ],
   "source": [
    "model.best_params_"
   ]
  },
  {
   "cell_type": "code",
   "execution_count": 155,
   "id": "6974e795",
   "metadata": {
    "scrolled": true
   },
   "outputs": [
    {
     "data": {
      "text/plain": [
       "array([0.97882854, 0.10023504, 0.08748375, 0.9781117 , 0.96491392,\n",
       "       0.1186912 , 0.16850298, 0.16117456, 0.07343243, 0.09071484,\n",
       "       0.97854618, 0.96822916, 0.98796013, 0.99030155, 0.16820482,\n",
       "       0.97868316, 0.10940783, 0.11552155, 0.96837706, 0.07322696,\n",
       "       0.98689045, 0.98533961, 0.93282681, 0.94259864, 0.1193471 ,\n",
       "       0.0959619 , 0.97616085, 0.03866994, 0.97519828, 0.96441892,\n",
       "       0.98561256, 0.16477334, 0.1155764 , 0.99163583, 0.08207678,\n",
       "       0.9767265 , 0.98288482, 0.11574898, 0.08116721, 0.9941659 ,\n",
       "       0.09729616, 0.08591906, 0.99624056, 0.08950034, 0.98246526,\n",
       "       0.12874147, 0.14183284, 0.9844721 , 0.1141945 , 0.9852822 ,\n",
       "       0.04186771, 0.97855371, 0.09421361, 0.98730189, 0.18603191,\n",
       "       0.14068624, 0.10470964, 0.07537154, 0.97606004, 0.99566783,\n",
       "       0.03137947, 0.16337449, 0.98459454, 0.96577311, 0.08063611,\n",
       "       0.98724884, 0.97648898, 0.98804817, 0.06385357, 0.96178202,\n",
       "       0.98064325, 0.11276757, 0.14352438, 0.97676281, 0.04177939,\n",
       "       0.96818897, 0.99504643, 0.96277637, 0.1383575 , 0.97266194,\n",
       "       0.05169912, 0.11211567, 0.98217456, 0.99076707, 0.19678097,\n",
       "       0.1501576 , 0.97689152, 0.97780676, 0.07673756, 0.09016537,\n",
       "       0.0228323 , 0.98689391, 0.98925068, 0.95514646, 0.99579973,\n",
       "       0.04804446, 0.97078483, 0.08595164, 0.07421345, 0.98068182,\n",
       "       0.17737672, 0.03590535, 0.98346677, 0.07096042, 0.98350463,\n",
       "       0.13961623, 0.1299094 , 0.12300752, 0.13269721, 0.97804398,\n",
       "       0.98784115, 0.06503663, 0.2928675 , 0.98883279, 0.99224749,\n",
       "       0.98803591, 0.11817379, 0.99212392, 0.97879994, 0.10766479,\n",
       "       0.0834985 , 0.98263081, 0.08658693, 0.9808551 , 0.9881457 ,\n",
       "       0.05527141, 0.06280232, 0.97242442, 0.05013544, 0.95668035,\n",
       "       0.96715451, 0.98238921, 0.97956553, 0.08611905, 0.96859615,\n",
       "       0.0873965 , 0.96738318, 0.05802193, 0.03915512, 0.06288635,\n",
       "       0.14295592, 0.07162067, 0.95048964, 0.98135623, 0.09228982,\n",
       "       0.16780276, 0.15453797, 0.06644762, 0.09115395, 0.02212345,\n",
       "       0.04878144, 0.98341474, 0.06569   , 0.11655818, 0.96217551,\n",
       "       0.99164252, 0.97321753, 0.05873361, 0.03982215, 0.15563463,\n",
       "       0.09264986, 0.16488536, 0.12819914, 0.98243527, 0.98551134,\n",
       "       0.04895224, 0.08310693, 0.09763029, 0.97175236, 0.9720507 ,\n",
       "       0.14571745, 0.99372988, 0.08421783, 0.98474122, 0.96218355,\n",
       "       0.11708602, 0.98017921, 0.97052878, 0.08153221, 0.19494777,\n",
       "       0.98937933, 0.03926592, 0.11125824, 0.13705542, 0.984791  ,\n",
       "       0.13422457, 0.99866985, 0.9819708 , 0.10699039, 0.98952414,\n",
       "       0.98657648, 0.97007073, 0.98713568, 0.97471481, 0.99222237,\n",
       "       0.98202713, 0.15124347, 0.03001054, 0.98889522, 0.9721326 ,\n",
       "       0.983046  , 0.08335089, 0.07246335, 0.98771591, 0.98789971,\n",
       "       0.07108679, 0.07157154, 0.95745655, 0.02633266, 0.10999449,\n",
       "       0.98767939, 0.98802479, 0.03799061, 0.13152502, 0.99410455,\n",
       "       0.08483418, 0.98614204, 0.04008714, 0.04455414, 0.10688534,\n",
       "       0.95893335, 0.9659428 , 0.96961113, 0.14834423, 0.98228185,\n",
       "       0.13152857, 0.94834008, 0.97332762, 0.15449027, 0.10861177,\n",
       "       0.97561123, 0.24421702, 0.05988133, 0.95382689, 0.11841043,\n",
       "       0.1328577 , 0.11272924, 0.99577709, 0.06895927, 0.97785188,\n",
       "       0.98011821, 0.98604853, 0.11116132, 0.07761404, 0.95692535,\n",
       "       0.95932111, 0.98749235, 0.12590391, 0.10676008, 0.96119834,\n",
       "       0.09311004, 0.02824263, 0.85992511, 0.86799035, 0.64445525,\n",
       "       0.76017312, 0.872583  , 0.81077004, 0.77138021, 0.60470429,\n",
       "       0.57846227, 0.75498032, 0.65163231, 0.6663984 , 0.79243368,\n",
       "       0.67527536, 0.75274158, 0.74911411, 0.63316353, 0.73164423,\n",
       "       0.77697857, 0.87638304, 0.82594991, 0.77850033, 0.89864007,\n",
       "       0.76767969, 0.7481553 , 0.6368058 , 0.7396355 , 0.71898982,\n",
       "       0.76916676, 0.79308695, 0.6865191 , 0.78174263, 0.80439408,\n",
       "       0.68163804, 0.68041672, 0.59863945, 0.90033993, 0.69169983,\n",
       "       0.80067647, 0.47036272, 0.75379994, 0.86695588, 0.80543244,\n",
       "       0.64268678, 0.70631455, 0.63263495, 0.80231557, 0.74638873,\n",
       "       0.66243536, 0.86555928, 0.73517792, 0.8446753 , 0.79235766,\n",
       "       0.71439802, 0.87888477, 0.73658433, 0.80613062, 0.80723031,\n",
       "       0.7431347 , 0.78149983, 0.76457632, 0.94533327, 0.7149546 ,\n",
       "       0.79054486, 0.80493493, 0.70274587, 0.8524344 , 0.656672  ,\n",
       "       0.77573956, 0.62489108, 0.84381032, 0.67900144, 0.64331002,\n",
       "       0.67190502, 0.7393743 , 0.67824606, 0.67590008, 0.78170505,\n",
       "       0.66567185, 0.71318846, 0.738552  , 0.64625806, 0.50183867,\n",
       "       0.67816316, 0.7285203 , 0.75394111, 0.65676007, 0.72139498,\n",
       "       0.68719277, 0.85503808, 0.65182956, 0.68750832, 0.85605956,\n",
       "       0.7063369 , 0.70472167, 0.6580624 , 0.80323533, 0.67942585,\n",
       "       0.70521494, 0.62955741, 0.80440305, 0.6869664 , 0.6868861 ,\n",
       "       0.75137176, 0.7286871 , 0.7033911 , 0.77006717, 0.60844445,\n",
       "       0.79757029, 0.79681739, 0.84797701, 0.65392217, 0.63804008,\n",
       "       0.6159738 , 0.67151094, 0.63059952, 0.70124014, 0.67283383,\n",
       "       0.75374022, 0.68831554, 0.79246463, 0.67687394, 0.86007555,\n",
       "       0.7567016 , 0.77395304, 0.82747551])"
      ]
     },
     "execution_count": 155,
     "metadata": {},
     "output_type": "execute_result"
    }
   ],
   "source": [
    "result1=nb.predict_proba(test_features)[:,1]\n",
    "result1"
   ]
  },
  {
   "cell_type": "code",
   "execution_count": 196,
   "id": "c570006e",
   "metadata": {},
   "outputs": [],
   "source": [
    "threshold=np.arange(0.00,1.0,0.01)"
   ]
  },
  {
   "cell_type": "code",
   "execution_count": 239,
   "id": "78f8a2d5",
   "metadata": {},
   "outputs": [],
   "source": [
    "tpr,fpr,fnr=[],[],[]\n",
    "for k in threshold:\n",
    "    res=[np.where(r>k,1,0) for r in result1]\n",
    "    c=confusion_matrix(test_target,res)\n",
    "    tpr.append(c[1,1]/(c[1,1]+c[1,0]))\n",
    "    fpr.append(c[0,1]/(c[0,0]+c[0,1]))\n",
    "    fnr.append(c[1,0]/(c[1,0]+c[1,1]))"
   ]
  },
  {
   "cell_type": "code",
   "execution_count": 253,
   "id": "8134ec96",
   "metadata": {},
   "outputs": [
    {
     "data": {
      "image/png": "[encoded data removed]",
      "text/plain": [
       "<Figure size 504x504 with 1 Axes>"
      ]
     },
     "metadata": {
      "needs_background": "light"
     },
     "output_type": "display_data"
    }
   ],
   "source": [
    "plt.figure(figsize=(7,7))\n",
    "plt.plot(fpr,tpr,marker='o',markerfacecolor='r')\n",
    "plt.plot(fpr,fnr,marker='+',markerfacecolor='green')\n",
    "sns.lineplot(x=threshold)\n",
    "plt.plot(fpr,fpr)\n",
    "plt.xlabel('FPR')\n",
    "plt.ylabel('TPR')\n",
    "plt.show()"
   ]
  },
  {
   "cell_type": "code",
   "execution_count": 212,
   "id": "32e0d0b0",
   "metadata": {},
   "outputs": [],
   "source": [
    "roc_auc=pd.DataFrame({'TPR':tpr,'FPR':fpr,'Threshold':threshold})"
   ]
  },
  {
   "cell_type": "code",
   "execution_count": 310,
   "id": "37fc5754",
   "metadata": {
    "scrolled": true
   },
   "outputs": [
    {
     "data": {
      "text/html": [
       "<div>\n",
       "<style scoped>\n",
       "    .dataframe tbody tr th:only-of-type {\n",
       "        vertical-align: middle;\n",
       "    }\n",
       "\n",
       "    .dataframe tbody tr th {\n",
       "        vertical-align: top;\n",
       "    }\n",
       "\n",
       "    .dataframe thead th {\n",
       "        text-align: right;\n",
       "    }\n",
       "</style>\n",
       "<table border=\"1\" class=\"dataframe\">\n",
       "  <thead>\n",
       "    <tr style=\"text-align: right;\">\n",
       "      <th></th>\n",
       "      <th>TPR</th>\n",
       "      <th>FPR</th>\n",
       "      <th>Threshold</th>\n",
       "    </tr>\n",
       "  </thead>\n",
       "  <tbody>\n",
       "    <tr>\n",
       "      <th>81</th>\n",
       "      <td>0.703125</td>\n",
       "      <td>0.037634</td>\n",
       "      <td>0.81</td>\n",
       "    </tr>\n",
       "    <tr>\n",
       "      <th>80</th>\n",
       "      <td>0.729167</td>\n",
       "      <td>0.059140</td>\n",
       "      <td>0.80</td>\n",
       "    </tr>\n",
       "    <tr>\n",
       "      <th>79</th>\n",
       "      <td>0.750000</td>\n",
       "      <td>0.075269</td>\n",
       "      <td>0.79</td>\n",
       "    </tr>\n",
       "    <tr>\n",
       "      <th>78</th>\n",
       "      <td>0.755208</td>\n",
       "      <td>0.086022</td>\n",
       "      <td>0.78</td>\n",
       "    </tr>\n",
       "    <tr>\n",
       "      <th>77</th>\n",
       "      <td>0.786458</td>\n",
       "      <td>0.086022</td>\n",
       "      <td>0.77</td>\n",
       "    </tr>\n",
       "    <tr>\n",
       "      <th>...</th>\n",
       "      <td>...</td>\n",
       "      <td>...</td>\n",
       "      <td>...</td>\n",
       "    </tr>\n",
       "    <tr>\n",
       "      <th>4</th>\n",
       "      <td>1.000000</td>\n",
       "      <td>0.935484</td>\n",
       "      <td>0.04</td>\n",
       "    </tr>\n",
       "    <tr>\n",
       "      <th>3</th>\n",
       "      <td>1.000000</td>\n",
       "      <td>0.978495</td>\n",
       "      <td>0.03</td>\n",
       "    </tr>\n",
       "    <tr>\n",
       "      <th>2</th>\n",
       "      <td>1.000000</td>\n",
       "      <td>1.000000</td>\n",
       "      <td>0.02</td>\n",
       "    </tr>\n",
       "    <tr>\n",
       "      <th>1</th>\n",
       "      <td>1.000000</td>\n",
       "      <td>1.000000</td>\n",
       "      <td>0.01</td>\n",
       "    </tr>\n",
       "    <tr>\n",
       "      <th>0</th>\n",
       "      <td>1.000000</td>\n",
       "      <td>1.000000</td>\n",
       "      <td>0.00</td>\n",
       "    </tr>\n",
       "  </tbody>\n",
       "</table>\n",
       "<p>82 rows × 3 columns</p>\n",
       "</div>"
      ],
      "text/plain": [
       "         TPR       FPR  Threshold\n",
       "81  0.703125  0.037634       0.81\n",
       "80  0.729167  0.059140       0.80\n",
       "79  0.750000  0.075269       0.79\n",
       "78  0.755208  0.086022       0.78\n",
       "77  0.786458  0.086022       0.77\n",
       "..       ...       ...        ...\n",
       "4   1.000000  0.935484       0.04\n",
       "3   1.000000  0.978495       0.03\n",
       "2   1.000000  1.000000       0.02\n",
       "1   1.000000  1.000000       0.01\n",
       "0   1.000000  1.000000       0.00\n",
       "\n",
       "[82 rows x 3 columns]"
      ]
     },
     "execution_count": 310,
     "metadata": {},
     "output_type": "execute_result"
    }
   ],
   "source": [
    "roc_auc[roc_auc.TPR>=0.70].sort_values(by='FPR')"
   ]
  },
  {
   "cell_type": "code",
   "execution_count": 433,
   "id": "8a869d82",
   "metadata": {},
   "outputs": [],
   "source": [
    "res=[np.where(r>0.81,1,0) for r in result1]"
   ]
  },
  {
   "cell_type": "code",
   "execution_count": 434,
   "id": "0a511323",
   "metadata": {},
   "outputs": [
    {
     "data": {
      "text/plain": [
       "array([[179,   7],\n",
       "       [ 57, 135]], dtype=int64)"
      ]
     },
     "execution_count": 434,
     "metadata": {},
     "output_type": "execute_result"
    }
   ],
   "source": [
    "confusion_matrix(test_target,res)"
   ]
  },
  {
   "cell_type": "code",
   "execution_count": 435,
   "id": "2edecc75",
   "metadata": {},
   "outputs": [
    {
     "name": "stdout",
     "output_type": "stream",
     "text": [
      "              precision    recall  f1-score   support\n",
      "\n",
      "           0       0.76      0.96      0.85       186\n",
      "           1       0.95      0.70      0.81       192\n",
      "\n",
      "    accuracy                           0.83       378\n",
      "   macro avg       0.85      0.83      0.83       378\n",
      "weighted avg       0.86      0.83      0.83       378\n",
      "\n"
     ]
    }
   ],
   "source": [
    "print(classification_report(test_target,res))"
   ]
  },
  {
   "cell_type": "code",
   "execution_count": 436,
   "id": "f4fee47d",
   "metadata": {},
   "outputs": [
    {
     "data": {
      "text/plain": [
       "array([1], dtype=int64)"
      ]
     },
     "execution_count": 436,
     "metadata": {},
     "output_type": "execute_result"
    }
   ],
   "source": [
    "nb.predict(cv.transform(['Barclays and RBS shares suspended from trading'.lower()]))"
   ]
  },
  {
   "cell_type": "code",
   "execution_count": 437,
   "id": "c13a2525",
   "metadata": {},
   "outputs": [],
   "source": [
    "result2=nb.predict_proba(train_features)[:,1]"
   ]
  },
  {
   "cell_type": "code",
   "execution_count": 438,
   "id": "d0e5c063",
   "metadata": {},
   "outputs": [],
   "source": [
    "res2=[np.where(r>0.7,1,0) for r in result2]"
   ]
  },
  {
   "cell_type": "code",
   "execution_count": 439,
   "id": "fad38f8f",
   "metadata": {},
   "outputs": [
    {
     "data": {
      "text/plain": [
       "array([[1878,    1],\n",
       "       [  49, 2047]], dtype=int64)"
      ]
     },
     "execution_count": 439,
     "metadata": {},
     "output_type": "execute_result"
    }
   ],
   "source": [
    "confusion_matrix(train_target,res2)"
   ]
  },
  {
   "cell_type": "code",
   "execution_count": 422,
   "id": "4da6aeb3",
   "metadata": {},
   "outputs": [
    {
     "name": "stdout",
     "output_type": "stream",
     "text": [
      "              precision    recall  f1-score   support\n",
      "\n",
      "           0       0.97      1.00      0.99      1879\n",
      "           1       1.00      0.98      0.99      2096\n",
      "\n",
      "    accuracy                           0.99      3975\n",
      "   macro avg       0.99      0.99      0.99      3975\n",
      "weighted avg       0.99      0.99      0.99      3975\n",
      "\n"
     ]
    }
   ],
   "source": [
    "print(classification_report(train_target,res2))"
   ]
  },
  {
   "cell_type": "code",
   "execution_count": null,
   "id": "ef865d7c",
   "metadata": {},
   "outputs": [],
   "source": []
  }
 ],
 "metadata": {
  "kernelspec": {
   "display_name": "Python 3",
   "language": "python",
   "name": "python3"
  },
  "language_info": {
   "codemirror_mode": {
    "name": "ipython",
    "version": 3
   },
   "file_extension": ".py",
   "mimetype": "text/x-python",
   "name": "python",
   "nbconvert_exporter": "python",
   "pygments_lexer": "ipython3",
   "version": "3.8.8"
  }
 },
 "nbformat": 4,
 "nbformat_minor": 5
}
