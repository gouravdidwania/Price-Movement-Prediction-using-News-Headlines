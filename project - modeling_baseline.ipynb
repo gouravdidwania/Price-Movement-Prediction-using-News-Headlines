{
 "cells": [
  {
   "cell_type": "code",
   "execution_count": 1,
   "id": "b0a9a05d",
   "metadata": {},
   "outputs": [],
   "source": [
    "import pandas as pd\n",
    "import numpy as np\n",
    "import pickle\n",
    "%matplotlib inline\n",
    "\n",
    "import warnings\n",
    "warnings.filterwarnings(\"ignore\")\n",
    "\n",
    "from sklearn.feature_extraction.text import CountVectorizer\n",
    "from sklearn.feature_extraction.text import TfidfVectorizer\n",
    "from sklearn.metrics import classification_report, confusion_matrix"
   ]
  },
  {
   "cell_type": "code",
   "execution_count": 2,
   "id": "52632800",
   "metadata": {},
   "outputs": [],
   "source": [
    "df=pd.read_pickle(r'preprocessed_df.pkl')"
   ]
  },
  {
   "cell_type": "code",
   "execution_count": 3,
   "id": "0c9168ba",
   "metadata": {},
   "outputs": [],
   "source": [
    "df.Date=[str(x).replace('00:00:00','') for x in df.Date]"
   ]
  },
  {
   "cell_type": "code",
   "execution_count": 4,
   "id": "9571ab81",
   "metadata": {},
   "outputs": [],
   "source": [
    "'''We now no more require the actual Headlines'''\n",
    "df=df.drop('Headlines',axis=1)"
   ]
  },
  {
   "cell_type": "code",
   "execution_count": 5,
   "id": "4a251472",
   "metadata": {},
   "outputs": [
    {
     "data": {
      "text/html": [
       "<div>\n",
       "<style scoped>\n",
       "    .dataframe tbody tr th:only-of-type {\n",
       "        vertical-align: middle;\n",
       "    }\n",
       "\n",
       "    .dataframe tbody tr th {\n",
       "        vertical-align: top;\n",
       "    }\n",
       "\n",
       "    .dataframe thead th {\n",
       "        text-align: right;\n",
       "    }\n",
       "</style>\n",
       "<table border=\"1\" class=\"dataframe\">\n",
       "  <thead>\n",
       "    <tr style=\"text-align: right;\">\n",
       "      <th></th>\n",
       "      <th>Date</th>\n",
       "      <th>Label</th>\n",
       "      <th>headlines_str</th>\n",
       "      <th>headlines_words</th>\n",
       "      <th>word2vec</th>\n",
       "    </tr>\n",
       "  </thead>\n",
       "  <tbody>\n",
       "    <tr>\n",
       "      <th>0</th>\n",
       "      <td>2000-01-03</td>\n",
       "      <td>0</td>\n",
       "      <td>hindrance operation extract leaked report scor...</td>\n",
       "      <td>[hindrance, operation, extract, leaked, report...</td>\n",
       "      <td>[0.019919062, 0.051673025, -0.025186863, 0.062...</td>\n",
       "    </tr>\n",
       "    <tr>\n",
       "      <th>1</th>\n",
       "      <td>2000-01-04</td>\n",
       "      <td>0</td>\n",
       "      <td>scorecard best lake scene leader german sleaze...</td>\n",
       "      <td>[scorecard, best, lake, scene, leader, german,...</td>\n",
       "      <td>[0.038909823, 0.049511578, 0.07234156, 0.05103...</td>\n",
       "    </tr>\n",
       "    <tr>\n",
       "      <th>2</th>\n",
       "      <td>2000-01-05</td>\n",
       "      <td>0</td>\n",
       "      <td>coventry caught counter flo united rival road ...</td>\n",
       "      <td>[coventry, caught, counter, flo, united, rival...</td>\n",
       "      <td>[-0.028612338, 0.047972914, 0.013764942, 0.097...</td>\n",
       "    </tr>\n",
       "    <tr>\n",
       "      <th>3</th>\n",
       "      <td>2000-01-06</td>\n",
       "      <td>1</td>\n",
       "      <td>pilgrim know progress thatcher facing ban mcil...</td>\n",
       "      <td>[pilgrim, know, progress, thatcher, facing, ba...</td>\n",
       "      <td>[-0.021918356, 0.04694813, 0.03538333, 0.06647...</td>\n",
       "    </tr>\n",
       "    <tr>\n",
       "      <th>4</th>\n",
       "      <td>2000-01-07</td>\n",
       "      <td>1</td>\n",
       "      <td>hitch horlocks beckham united survive breast c...</td>\n",
       "      <td>[hitch, horlocks, beckham, united, survive, br...</td>\n",
       "      <td>[-0.014015404, 0.045476243, 0.021973068, 0.047...</td>\n",
       "    </tr>\n",
       "  </tbody>\n",
       "</table>\n",
       "</div>"
      ],
      "text/plain": [
       "          Date  Label                                      headlines_str  \\\n",
       "0  2000-01-03       0  hindrance operation extract leaked report scor...   \n",
       "1  2000-01-04       0  scorecard best lake scene leader german sleaze...   \n",
       "2  2000-01-05       0  coventry caught counter flo united rival road ...   \n",
       "3  2000-01-06       1  pilgrim know progress thatcher facing ban mcil...   \n",
       "4  2000-01-07       1  hitch horlocks beckham united survive breast c...   \n",
       "\n",
       "                                     headlines_words  \\\n",
       "0  [hindrance, operation, extract, leaked, report...   \n",
       "1  [scorecard, best, lake, scene, leader, german,...   \n",
       "2  [coventry, caught, counter, flo, united, rival...   \n",
       "3  [pilgrim, know, progress, thatcher, facing, ba...   \n",
       "4  [hitch, horlocks, beckham, united, survive, br...   \n",
       "\n",
       "                                            word2vec  \n",
       "0  [0.019919062, 0.051673025, -0.025186863, 0.062...  \n",
       "1  [0.038909823, 0.049511578, 0.07234156, 0.05103...  \n",
       "2  [-0.028612338, 0.047972914, 0.013764942, 0.097...  \n",
       "3  [-0.021918356, 0.04694813, 0.03538333, 0.06647...  \n",
       "4  [-0.014015404, 0.045476243, 0.021973068, 0.047...  "
      ]
     },
     "execution_count": 5,
     "metadata": {},
     "output_type": "execute_result"
    }
   ],
   "source": [
    "df.head()"
   ]
  },
  {
   "cell_type": "markdown",
   "id": "9ec30bf2",
   "metadata": {},
   "source": [
    "# Models"
   ]
  },
  {
   "cell_type": "code",
   "execution_count": 6,
   "id": "84a8be15",
   "metadata": {},
   "outputs": [],
   "source": [
    "from sklearn import  svm, naive_bayes, neighbors, ensemble\n",
    "from sklearn.linear_model import LogisticRegression"
   ]
  },
  {
   "cell_type": "code",
   "execution_count": 7,
   "id": "5838e67a",
   "metadata": {},
   "outputs": [],
   "source": [
    "lr_model = LogisticRegression(n_jobs=-1)\n",
    "nb_model = naive_bayes.MultinomialNB()\n",
    "knn_model = neighbors.KNeighborsClassifier(n_jobs=-1)\n",
    "svc_model = svm.SVC(probability=True, gamma=\"scale\",)\n",
    "rf_model = ensemble.RandomForestClassifier(n_estimators=100,n_jobs=-1)\n",
    "et_model = ensemble.ExtraTreesClassifier(n_estimators=100,n_jobs=-1)\n",
    "ada_model = ensemble.AdaBoostClassifier()\n",
    "\n",
    "models = [\"lr_model\", \"nb_model\", \"knn_model\", \"svc_model\", \"rf_model\", \"et_model\", \"ada_model\"]"
   ]
  },
  {
   "cell_type": "code",
   "execution_count": 8,
   "id": "50ec1b01",
   "metadata": {},
   "outputs": [],
   "source": [
    "def baseline_model_filter(modellist, X, y):\n",
    "    ''' 1. split the train data further into train and validation (17%). \n",
    "        2. fit the train data into each model of the model list\n",
    "        3. get the classification report based on the model performance on validation data\n",
    "    '''\n",
    "    X_train, X_valid, y_train, y_valid = X[:3471],X[3471:],y[:3471],y[3471:]\n",
    "    for model_name in modellist:\n",
    "        curr_model = eval(model_name)\n",
    "        curr_model.fit(X_train, y_train) \n",
    "        print(f'{model_name} \\n report:{classification_report(y_valid, curr_model.predict(X_valid))}')"
   ]
  },
  {
   "cell_type": "code",
   "execution_count": 9,
   "id": "663d7757",
   "metadata": {},
   "outputs": [
    {
     "data": {
      "text/html": [
       "<div>\n",
       "<style scoped>\n",
       "    .dataframe tbody tr th:only-of-type {\n",
       "        vertical-align: middle;\n",
       "    }\n",
       "\n",
       "    .dataframe tbody tr th {\n",
       "        vertical-align: top;\n",
       "    }\n",
       "\n",
       "    .dataframe thead th {\n",
       "        text-align: right;\n",
       "    }\n",
       "</style>\n",
       "<table border=\"1\" class=\"dataframe\">\n",
       "  <thead>\n",
       "    <tr style=\"text-align: right;\">\n",
       "      <th></th>\n",
       "      <th>Date</th>\n",
       "      <th>Label</th>\n",
       "      <th>headlines_str</th>\n",
       "      <th>headlines_words</th>\n",
       "      <th>word2vec</th>\n",
       "    </tr>\n",
       "  </thead>\n",
       "  <tbody>\n",
       "    <tr>\n",
       "      <th>0</th>\n",
       "      <td>2000-01-03</td>\n",
       "      <td>0</td>\n",
       "      <td>hindrance operation extract leaked report scor...</td>\n",
       "      <td>[hindrance, operation, extract, leaked, report...</td>\n",
       "      <td>[0.019919062, 0.051673025, -0.025186863, 0.062...</td>\n",
       "    </tr>\n",
       "    <tr>\n",
       "      <th>1</th>\n",
       "      <td>2000-01-04</td>\n",
       "      <td>0</td>\n",
       "      <td>scorecard best lake scene leader german sleaze...</td>\n",
       "      <td>[scorecard, best, lake, scene, leader, german,...</td>\n",
       "      <td>[0.038909823, 0.049511578, 0.07234156, 0.05103...</td>\n",
       "    </tr>\n",
       "    <tr>\n",
       "      <th>2</th>\n",
       "      <td>2000-01-05</td>\n",
       "      <td>0</td>\n",
       "      <td>coventry caught counter flo united rival road ...</td>\n",
       "      <td>[coventry, caught, counter, flo, united, rival...</td>\n",
       "      <td>[-0.028612338, 0.047972914, 0.013764942, 0.097...</td>\n",
       "    </tr>\n",
       "    <tr>\n",
       "      <th>3</th>\n",
       "      <td>2000-01-06</td>\n",
       "      <td>1</td>\n",
       "      <td>pilgrim know progress thatcher facing ban mcil...</td>\n",
       "      <td>[pilgrim, know, progress, thatcher, facing, ba...</td>\n",
       "      <td>[-0.021918356, 0.04694813, 0.03538333, 0.06647...</td>\n",
       "    </tr>\n",
       "    <tr>\n",
       "      <th>4</th>\n",
       "      <td>2000-01-07</td>\n",
       "      <td>1</td>\n",
       "      <td>hitch horlocks beckham united survive breast c...</td>\n",
       "      <td>[hitch, horlocks, beckham, united, survive, br...</td>\n",
       "      <td>[-0.014015404, 0.045476243, 0.021973068, 0.047...</td>\n",
       "    </tr>\n",
       "  </tbody>\n",
       "</table>\n",
       "</div>"
      ],
      "text/plain": [
       "          Date  Label                                      headlines_str  \\\n",
       "0  2000-01-03       0  hindrance operation extract leaked report scor...   \n",
       "1  2000-01-04       0  scorecard best lake scene leader german sleaze...   \n",
       "2  2000-01-05       0  coventry caught counter flo united rival road ...   \n",
       "3  2000-01-06       1  pilgrim know progress thatcher facing ban mcil...   \n",
       "4  2000-01-07       1  hitch horlocks beckham united survive breast c...   \n",
       "\n",
       "                                     headlines_words  \\\n",
       "0  [hindrance, operation, extract, leaked, report...   \n",
       "1  [scorecard, best, lake, scene, leader, german,...   \n",
       "2  [coventry, caught, counter, flo, united, rival...   \n",
       "3  [pilgrim, know, progress, thatcher, facing, ba...   \n",
       "4  [hitch, horlocks, beckham, united, survive, br...   \n",
       "\n",
       "                                            word2vec  \n",
       "0  [0.019919062, 0.051673025, -0.025186863, 0.062...  \n",
       "1  [0.038909823, 0.049511578, 0.07234156, 0.05103...  \n",
       "2  [-0.028612338, 0.047972914, 0.013764942, 0.097...  \n",
       "3  [-0.021918356, 0.04694813, 0.03538333, 0.06647...  \n",
       "4  [-0.014015404, 0.045476243, 0.021973068, 0.047...  "
      ]
     },
     "execution_count": 9,
     "metadata": {},
     "output_type": "execute_result"
    }
   ],
   "source": [
    "df.head()"
   ]
  },
  {
   "cell_type": "code",
   "execution_count": 10,
   "id": "db3501b6",
   "metadata": {},
   "outputs": [],
   "source": [
    "''' It's a Time Series data and the previous data will be prediciting the upcoming data. \n",
    "    The Stocks follows yearly seasonality so it will be a good practice \n",
    "    to split data at the year end. '''\n",
    "\n",
    "train = df[df['Date'] < '20150101'].drop('Date',axis=1)\n",
    "test = df[df['Date'] > '20141231'].drop('Date',axis=1)"
   ]
  },
  {
   "cell_type": "markdown",
   "id": "d3438469",
   "metadata": {},
   "source": [
    "## Trying using different word embedding techniques to filter the baseline models"
   ]
  },
  {
   "cell_type": "markdown",
   "id": "bfcf9c2b",
   "metadata": {},
   "source": [
    "## `Bag-Of-Words`"
   ]
  },
  {
   "cell_type": "code",
   "execution_count": 11,
   "id": "c9413178",
   "metadata": {},
   "outputs": [],
   "source": [
    "count_vect = CountVectorizer(analyzer='word')\n",
    "X = count_vect.fit_transform(train.headlines_str).toarray()\n",
    "y = train.Label"
   ]
  },
  {
   "cell_type": "code",
   "execution_count": 12,
   "id": "e5b4809c",
   "metadata": {
    "scrolled": false
   },
   "outputs": [
    {
     "name": "stdout",
     "output_type": "stream",
     "text": [
      "lr_model \n",
      " report:              precision    recall  f1-score   support\n",
      "\n",
      "           0       0.54      0.36      0.43       243\n",
      "           1       0.55      0.72      0.62       261\n",
      "\n",
      "    accuracy                           0.55       504\n",
      "   macro avg       0.55      0.54      0.53       504\n",
      "weighted avg       0.55      0.55      0.53       504\n",
      "\n",
      "nb_model \n",
      " report:              precision    recall  f1-score   support\n",
      "\n",
      "           0       0.42      0.11      0.17       243\n",
      "           1       0.51      0.86      0.64       261\n",
      "\n",
      "    accuracy                           0.50       504\n",
      "   macro avg       0.46      0.48      0.41       504\n",
      "weighted avg       0.47      0.50      0.41       504\n",
      "\n",
      "knn_model \n",
      " report:              precision    recall  f1-score   support\n",
      "\n",
      "           0       0.62      0.11      0.18       243\n",
      "           1       0.53      0.94      0.68       261\n",
      "\n",
      "    accuracy                           0.54       504\n",
      "   macro avg       0.57      0.52      0.43       504\n",
      "weighted avg       0.57      0.54      0.44       504\n",
      "\n",
      "svc_model \n",
      " report:              precision    recall  f1-score   support\n",
      "\n",
      "           0       0.40      0.07      0.12       243\n",
      "           1       0.51      0.90      0.65       261\n",
      "\n",
      "    accuracy                           0.50       504\n",
      "   macro avg       0.46      0.49      0.39       504\n",
      "weighted avg       0.46      0.50      0.40       504\n",
      "\n",
      "rf_model \n",
      " report:              precision    recall  f1-score   support\n",
      "\n",
      "           0       0.52      0.21      0.30       243\n",
      "           1       0.53      0.82      0.64       261\n",
      "\n",
      "    accuracy                           0.53       504\n",
      "   macro avg       0.52      0.51      0.47       504\n",
      "weighted avg       0.52      0.53      0.48       504\n",
      "\n",
      "et_model \n",
      " report:              precision    recall  f1-score   support\n",
      "\n",
      "           0       0.50      0.29      0.37       243\n",
      "           1       0.52      0.72      0.61       261\n",
      "\n",
      "    accuracy                           0.52       504\n",
      "   macro avg       0.51      0.51      0.49       504\n",
      "weighted avg       0.51      0.52      0.49       504\n",
      "\n",
      "ada_model \n",
      " report:              precision    recall  f1-score   support\n",
      "\n",
      "           0       0.49      0.21      0.30       243\n",
      "           1       0.52      0.79      0.63       261\n",
      "\n",
      "    accuracy                           0.51       504\n",
      "   macro avg       0.50      0.50      0.46       504\n",
      "weighted avg       0.50      0.51      0.47       504\n",
      "\n"
     ]
    }
   ],
   "source": [
    "baseline_model_filter(models, X, y)"
   ]
  },
  {
   "cell_type": "markdown",
   "id": "a3f3c046",
   "metadata": {},
   "source": [
    "## `Word level TF-IDF`"
   ]
  },
  {
   "cell_type": "code",
   "execution_count": 13,
   "id": "91d5fdb7",
   "metadata": {},
   "outputs": [],
   "source": [
    "tfidf_vect = TfidfVectorizer(analyzer='word')\n",
    "X = tfidf_vect.fit_transform(train.headlines_str).toarray()\n",
    "y = train.Label"
   ]
  },
  {
   "cell_type": "code",
   "execution_count": 14,
   "id": "3162c6f1",
   "metadata": {},
   "outputs": [
    {
     "name": "stdout",
     "output_type": "stream",
     "text": [
      "lr_model \n",
      " report:              precision    recall  f1-score   support\n",
      "\n",
      "           0       0.45      0.13      0.20       243\n",
      "           1       0.51      0.85      0.64       261\n",
      "\n",
      "    accuracy                           0.50       504\n",
      "   macro avg       0.48      0.49      0.42       504\n",
      "weighted avg       0.48      0.50      0.43       504\n",
      "\n",
      "nb_model \n",
      " report:              precision    recall  f1-score   support\n",
      "\n",
      "           0       0.00      0.00      0.00       243\n",
      "           1       0.52      1.00      0.68       261\n",
      "\n",
      "    accuracy                           0.52       504\n",
      "   macro avg       0.26      0.50      0.34       504\n",
      "weighted avg       0.27      0.52      0.35       504\n",
      "\n",
      "knn_model \n",
      " report:              precision    recall  f1-score   support\n",
      "\n",
      "           0       0.55      0.47      0.50       243\n",
      "           1       0.56      0.64      0.60       261\n",
      "\n",
      "    accuracy                           0.56       504\n",
      "   macro avg       0.55      0.55      0.55       504\n",
      "weighted avg       0.55      0.56      0.55       504\n",
      "\n",
      "svc_model \n",
      " report:              precision    recall  f1-score   support\n",
      "\n",
      "           0       0.50      0.01      0.02       243\n",
      "           1       0.52      0.99      0.68       261\n",
      "\n",
      "    accuracy                           0.52       504\n",
      "   macro avg       0.51      0.50      0.35       504\n",
      "weighted avg       0.51      0.52      0.36       504\n",
      "\n",
      "rf_model \n",
      " report:              precision    recall  f1-score   support\n",
      "\n",
      "           0       0.42      0.20      0.27       243\n",
      "           1       0.50      0.74      0.60       261\n",
      "\n",
      "    accuracy                           0.48       504\n",
      "   macro avg       0.46      0.47      0.43       504\n",
      "weighted avg       0.46      0.48      0.44       504\n",
      "\n",
      "et_model \n",
      " report:              precision    recall  f1-score   support\n",
      "\n",
      "           0       0.49      0.23      0.31       243\n",
      "           1       0.52      0.78      0.62       261\n",
      "\n",
      "    accuracy                           0.51       504\n",
      "   macro avg       0.51      0.50      0.47       504\n",
      "weighted avg       0.51      0.51      0.47       504\n",
      "\n",
      "ada_model \n",
      " report:              precision    recall  f1-score   support\n",
      "\n",
      "           0       0.50      0.68      0.58       243\n",
      "           1       0.55      0.37      0.44       261\n",
      "\n",
      "    accuracy                           0.52       504\n",
      "   macro avg       0.53      0.52      0.51       504\n",
      "weighted avg       0.53      0.52      0.51       504\n",
      "\n"
     ]
    }
   ],
   "source": [
    "baseline_model_filter(models, X, y)"
   ]
  },
  {
   "cell_type": "markdown",
   "id": "e76cbcf0",
   "metadata": {},
   "source": [
    "## `Word2Vec`"
   ]
  },
  {
   "cell_type": "code",
   "execution_count": 37,
   "id": "58d1f16d",
   "metadata": {},
   "outputs": [],
   "source": [
    "from sklearn.preprocessing import MinMaxScaler\n",
    "scaler=MinMaxScaler()"
   ]
  },
  {
   "cell_type": "code",
   "execution_count": 38,
   "id": "60bc8c63",
   "metadata": {},
   "outputs": [],
   "source": [
    "X = scaler.fit_transform(np.array(list(train.word2vec)))\n",
    "y = train.Label"
   ]
  },
  {
   "cell_type": "code",
   "execution_count": 39,
   "id": "1576f86f",
   "metadata": {},
   "outputs": [
    {
     "name": "stdout",
     "output_type": "stream",
     "text": [
      "lr_model \n",
      " report:              precision    recall  f1-score   support\n",
      "\n",
      "           0       0.50      0.24      0.33       243\n",
      "           1       0.52      0.77      0.62       261\n",
      "\n",
      "    accuracy                           0.52       504\n",
      "   macro avg       0.51      0.51      0.48       504\n",
      "weighted avg       0.51      0.52      0.48       504\n",
      "\n",
      "nb_model \n",
      " report:              precision    recall  f1-score   support\n",
      "\n",
      "           0       0.00      0.00      0.00       243\n",
      "           1       0.52      1.00      0.68       261\n",
      "\n",
      "    accuracy                           0.52       504\n",
      "   macro avg       0.26      0.50      0.34       504\n",
      "weighted avg       0.27      0.52      0.35       504\n",
      "\n",
      "knn_model \n",
      " report:              precision    recall  f1-score   support\n",
      "\n",
      "           0       0.49      0.31      0.38       243\n",
      "           1       0.52      0.70      0.60       261\n",
      "\n",
      "    accuracy                           0.51       504\n",
      "   macro avg       0.51      0.51      0.49       504\n",
      "weighted avg       0.51      0.51      0.49       504\n",
      "\n",
      "svc_model \n",
      " report:              precision    recall  f1-score   support\n",
      "\n",
      "           0       0.59      0.08      0.14       243\n",
      "           1       0.53      0.95      0.68       261\n",
      "\n",
      "    accuracy                           0.53       504\n",
      "   macro avg       0.56      0.51      0.41       504\n",
      "weighted avg       0.56      0.53      0.42       504\n",
      "\n",
      "rf_model \n",
      " report:              precision    recall  f1-score   support\n",
      "\n",
      "           0       0.50      0.23      0.32       243\n",
      "           1       0.52      0.78      0.63       261\n",
      "\n",
      "    accuracy                           0.52       504\n",
      "   macro avg       0.51      0.51      0.47       504\n",
      "weighted avg       0.51      0.52      0.48       504\n",
      "\n",
      "et_model \n",
      " report:              precision    recall  f1-score   support\n",
      "\n",
      "           0       0.52      0.27      0.35       243\n",
      "           1       0.53      0.77      0.63       261\n",
      "\n",
      "    accuracy                           0.53       504\n",
      "   macro avg       0.52      0.52      0.49       504\n",
      "weighted avg       0.52      0.53      0.49       504\n",
      "\n",
      "ada_model \n",
      " report:              precision    recall  f1-score   support\n",
      "\n",
      "           0       0.48      0.33      0.39       243\n",
      "           1       0.51      0.66      0.58       261\n",
      "\n",
      "    accuracy                           0.50       504\n",
      "   macro avg       0.50      0.50      0.49       504\n",
      "weighted avg       0.50      0.50      0.49       504\n",
      "\n"
     ]
    }
   ],
   "source": [
    "baseline_model_filter(models, X, y)"
   ]
  },
  {
   "cell_type": "markdown",
   "id": "4dd029a9",
   "metadata": {},
   "source": [
    "## Best Baseline Model"
   ]
  },
  {
   "cell_type": "markdown",
   "id": "da816809",
   "metadata": {},
   "source": [
    "We'll select multiple model from the process we'll finetune them and get the result"
   ]
  },
  {
   "cell_type": "markdown",
   "id": "0117c24a",
   "metadata": {},
   "source": [
    "1. Naive Baye's Model with Count Vectorizer --> Decent F1 Scores and 86% accurate in predicting 1\n",
    "2. Rf with Count Vectorizer --> Decent F1 Scores and 86% accurate in predicting 1\n",
    "3. KNN Model with TFID Vectorizer --> Highest Accuracy among all Models"
   ]
  },
  {
   "cell_type": "code",
   "execution_count": null,
   "id": "5c992569",
   "metadata": {},
   "outputs": [],
   "source": []
  }
 ],
 "metadata": {
  "kernelspec": {
   "display_name": "Python 3",
   "language": "python",
   "name": "python3"
  },
  "language_info": {
   "codemirror_mode": {
    "name": "ipython",
    "version": 3
   },
   "file_extension": ".py",
   "mimetype": "text/x-python",
   "name": "python",
   "nbconvert_exporter": "python",
   "pygments_lexer": "ipython3",
   "version": "3.8.8"
  }
 },
 "nbformat": 4,
 "nbformat_minor": 5
}
